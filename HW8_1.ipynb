{
 "cells": [
  {
   "cell_type": "markdown",
   "id": "4ae32b10",
   "metadata": {},
   "source": [
    "# Assignment 8\n",
    "\n",
    "#### Problem 1.1\n",
    "\n",
    "We will investigate the following numerical methods for estimating integrals: Simpson, adaptive trapezoid, and traditional trapezoid.\n",
    "\n",
    "Both the trapezoid and Simpson methods divide the x-range over which a function is integrated into subdivisions. To use both method, you have to specify the number of subdivisions you want beforehand. The trapezoid method uses a trapezoid to evaluate the area within each subdivision and then add them up. In contrast, the Simpson method uses a polynomial to match the shape of the curve, and evaluate the area within each subdivision, as a result, we expect the Simpson method to give us more accurate result. The adaptive trapezoid method uses the same approach as the traditional trapezoid method, but instead of specifying the number of subdivisions beforehand, you specify a level of accuracy you want, and the adaptive method will divide the x-range into more and more subdivisions until that level of accuracy is reached. \n",
    "\n",
    "Let's see them in action.\n",
    "\n",
    "First of all, I want to enable linting. I typed the following commands:\n",
    "\n",
    "%load_ext pycodestyle_magic\n",
    "%pycodestyle_o\n",
    "\n",
    "But there is an error: \"pycodestyle module not found\".\n",
    "\n",
    "Turns out, pycodestyle_magic module has not been installed yet. So I installed pycodestyle_magic first with: \n",
    "\n",
    "%pip install pycodestyle_magic\n",
    "\n",
    "And I ran the command again. There is another error: \"flake8 module not found\".\n",
    "\n",
    "So, in order to enable linting, I need to install both modules, flake8 and pycodestyle_magic.\n",
    "\n",
    "I did so, and I could enable linting finally as shown below. :)"
   ]
  },
  {
   "cell_type": "code",
   "execution_count": 2,
   "id": "3e2a8cbf",
   "metadata": {
    "scrolled": true
   },
   "outputs": [
    {
     "name": "stdout",
     "output_type": "stream",
     "text": [
      "Collecting flake8\n",
      "  Downloading flake8-4.0.1-py2.py3-none-any.whl (64 kB)\n",
      "     |████████████████████████████████| 64 kB 460 kB/s             \n",
      "\u001b[?25hRequirement already satisfied: pycodestyle_magic in /opt/conda/lib/python3.9/site-packages (0.5)\n",
      "Requirement already satisfied: pycodestyle<2.9.0,>=2.8.0 in /opt/conda/lib/python3.9/site-packages (from flake8) (2.8.0)\n",
      "Collecting pyflakes<2.5.0,>=2.4.0\n",
      "  Downloading pyflakes-2.4.0-py2.py3-none-any.whl (69 kB)\n",
      "     |████████████████████████████████| 69 kB 1.3 MB/s             \n",
      "\u001b[?25hCollecting mccabe<0.7.0,>=0.6.0\n",
      "  Downloading mccabe-0.6.1-py2.py3-none-any.whl (8.6 kB)\n",
      "Installing collected packages: pyflakes, mccabe, flake8\n",
      "Successfully installed flake8-4.0.1 mccabe-0.6.1 pyflakes-2.4.0\n",
      "Note: you may need to restart the kernel to use updated packages.\n"
     ]
    }
   ],
   "source": [
    "%pip install flake8 pycodestyle_magic"
   ]
  },
  {
   "cell_type": "code",
   "execution_count": 2,
   "id": "6986c0fe",
   "metadata": {},
   "outputs": [
    {
     "name": "stdout",
     "output_type": "stream",
     "text": [
      "The pycodestyle_magic extension is already loaded. To reload it, use:\n",
      "  %reload_ext pycodestyle_magic\n"
     ]
    }
   ],
   "source": [
    "# This is to enable linting, making sure we write our python code in style.\n",
    "%load_ext pycodestyle_magic\n",
    "%pycodestyle_on"
   ]
  },
  {
   "cell_type": "code",
   "execution_count": 1,
   "id": "082c779e",
   "metadata": {
    "scrolled": true
   },
   "outputs": [
    {
     "name": "stdout",
     "output_type": "stream",
     "text": [
      "Populating the interactive namespace from numpy and matplotlib\n"
     ]
    }
   ],
   "source": [
    "# I wonder if I can import all three methods in a single command?\n",
    "# Apparently I can.\n",
    "from integrals import adaptive_trapezoid, trapezoid, simpson\n",
    "\n",
    "# This magical command imports both numpy and matplotlib in one go.\n",
    "%pylab inline"
   ]
  },
  {
   "cell_type": "code",
   "execution_count": 18,
   "id": "447110e9",
   "metadata": {},
   "outputs": [
    {
     "name": "stderr",
     "output_type": "stream",
     "text": [
      "1:80: E501 line too long (101 > 79 characters)\n",
      "3:80: E501 line too long (80 > 79 characters)\n"
     ]
    }
   ],
   "source": [
    "# adaptive_trapezoid(the function, lower limit, upper limit, level of accuracy, output=True or false)\n",
    "# simpson(the function, lower limit, upper limit, the number of subdivisions)\n",
    "# trapezoid (the function, lower limit, upper limit, the number of subdivisions)\n",
    "# The above comments are too long, but they specifies the inputs."
   ]
  },
  {
   "cell_type": "markdown",
   "id": "abd0c110",
   "metadata": {},
   "source": [
    "We first invetigate the function $y = e^x$ in the following range [0, 10]."
   ]
  },
  {
   "cell_type": "code",
   "execution_count": 23,
   "id": "7061e215",
   "metadata": {
    "scrolled": false
   },
   "outputs": [
    {
     "name": "stdout",
     "output_type": "stream",
     "text": [
      "N = 2,  Integral = 110137.32897403359\n",
      "N = 2.0,  Integral = 55810.73028252968\n",
      "N = 4.0,  Integral = 32455.927412306755\n",
      "N = 8.0,  Integral = 24821.354153296994\n",
      "N = 16.0,  Integral = 22737.81578168463\n",
      "N = 32.0,  Integral = 22204.418433198334\n",
      "N = 64.0,  Integral = 22070.25849666271\n",
      "N = 128.0,  Integral = 22036.667386590423\n",
      "N = 256.0,  Integral = 22028.26640638897\n",
      "N = 512.0,  Integral = 22026.16596105638\n",
      "N = 1024.0,  Integral = 22025.64083720381\n"
     ]
    }
   ],
   "source": [
    "calc_e_adaptive = adaptive_trapezoid(np.exp, a=0, b=10, acc=0.5, output=True)"
   ]
  },
  {
   "cell_type": "markdown",
   "id": "8275d358",
   "metadata": {},
   "source": [
    "Here I specified the accuracy to be 0.5, and compared to the actual value of the integral below, indeed it's accurate to within 0.5. Five digits are correct!"
   ]
  },
  {
   "cell_type": "code",
   "execution_count": 24,
   "id": "1b38f28e",
   "metadata": {},
   "outputs": [
    {
     "data": {
      "text/plain": [
       "22025.465794806718"
      ]
     },
     "execution_count": 24,
     "metadata": {},
     "output_type": "execute_result"
    }
   ],
   "source": [
    "np.exp(10)-np.exp(0)"
   ]
  },
  {
   "cell_type": "markdown",
   "id": "483ed470",
   "metadata": {},
   "source": [
    "As we explained earlier, the adaptive method tries more and more subdivisions until the level of accuracy we specified is reached. In this case it took 11 steps for it to reach that level of accuracy. For the other two methods, trapezoid and Simpson, there is really just 1 step! We specify the number of subdivisons and that's it, the methods then calculate a value for us, done. (It would probably make more sense to compare the efficiency between adaptive trapezoid and adaptive Simpson.)"
   ]
  },
  {
   "cell_type": "code",
   "execution_count": 54,
   "id": "2c11a352",
   "metadata": {
    "scrolled": true
   },
   "outputs": [
    {
     "name": "stdout",
     "output_type": "stream",
     "text": [
      "22025.640837203788\n"
     ]
    }
   ],
   "source": [
    "calc_e_trapezoid = trapezoid(np.exp, 0, 10, 1024)\n",
    "print(calc_e_trapezoid)"
   ]
  },
  {
   "cell_type": "markdown",
   "id": "55ffd001",
   "metadata": {},
   "source": [
    "As we can see, just one step, and boom we have the answer. Here I specified the number of subdivisions to be 1024. I expected that both the adaptive and traditional trepazoid methods should give me similar results if I make the number of subdivision the same. Since they're essentially the same method. And indeed they are exactly the same answers!"
   ]
  },
  {
   "cell_type": "code",
   "execution_count": 34,
   "id": "2d63c0f2",
   "metadata": {},
   "outputs": [
    {
     "name": "stdout",
     "output_type": "stream",
     "text": [
      "22025.465795919594\n"
     ]
    }
   ],
   "source": [
    "calc_e_simpson = simpson(np.exp, 0, 10, 1024)\n",
    "print(calc_e_simpson)"
   ]
  },
  {
   "cell_type": "markdown",
   "id": "69af214e",
   "metadata": {},
   "source": [
    "The Simpson method is very accurate as expected. It uses 1024 subdivisons, and it is accurate up to 6 digits. It is more accurate than the adaptive and traditional trapezoid methods, which produced accurate answers up to 5 digits. I guess the adaptive Simpson method might also be more efficient, since it can more accurately simulate the shape of the curve, so I guess it will take fewer steps for adaptive Simpson to reach the accuracy we want. But we don't have an adaptive Simpson method code to test this hypothesis yet.  \n",
    "\n",
    "The integral we're trying to determine is plotted below:"
   ]
  },
  {
   "cell_type": "code",
   "execution_count": 50,
   "id": "a4f7e2c1",
   "metadata": {},
   "outputs": [
    {
     "data": {
      "image/png": "[encoded data removed]",
      "text/plain": [
       "<Figure size 432x288 with 1 Axes>"
      ]
     },
     "metadata": {
      "needs_background": "light"
     },
     "output_type": "display_data"
    }
   ],
   "source": [
    "a = 0\n",
    "b = 10\n",
    "x = np.linspace(a, b, 10000)\n",
    "y = np.exp(x)\n",
    "plt.xlabel(\"x\")\n",
    "plt.ylabel(\"exp(x)\")\n",
    "\n",
    "# An integral is the area under a curve.\n",
    "plt.fill_between(x, y)\n",
    "plt.show()"
   ]
  },
  {
   "cell_type": "markdown",
   "id": "b691ce5c",
   "metadata": {},
   "source": [
    "---\n",
    "Now we will try different ranges, first x = [0, 2𝜋]. The result we expect should be:"
   ]
  },
  {
   "cell_type": "code",
   "execution_count": 51,
   "id": "9fea3da5",
   "metadata": {},
   "outputs": [
    {
     "data": {
      "text/plain": [
       "534.4916555247646"
      ]
     },
     "execution_count": 51,
     "metadata": {},
     "output_type": "execute_result"
    }
   ],
   "source": [
    "np.exp(2*np.pi)-np.exp(0)"
   ]
  },
  {
   "cell_type": "code",
   "execution_count": 52,
   "id": "37e2d902",
   "metadata": {},
   "outputs": [
    {
     "data": {
      "image/png": "[encoded data removed]",
      "text/plain": [
       "<Figure size 432x288 with 1 Axes>"
      ]
     },
     "metadata": {
      "needs_background": "light"
     },
     "output_type": "display_data"
    }
   ],
   "source": [
    "a = 0\n",
    "b = 2*np.pi\n",
    "x = np.linspace(a, b, 10000)\n",
    "y = np.exp(x)\n",
    "plt.xlabel(\"x\")\n",
    "plt.ylabel(\"exp(x)\")\n",
    "\n",
    "# An integral is the area under a curve.\n",
    "plt.fill_between(x, y)\n",
    "plt.show()"
   ]
  },
  {
   "cell_type": "markdown",
   "id": "399eae6a",
   "metadata": {},
   "source": [
    "Next, let's do the integrals numerically."
   ]
  },
  {
   "cell_type": "code",
   "execution_count": 53,
   "id": "4be69027",
   "metadata": {},
   "outputs": [
    {
     "name": "stderr",
     "output_type": "stream",
     "text": [
      "1:80: E501 line too long (83 > 79 characters)\n"
     ]
    },
    {
     "name": "stdout",
     "output_type": "stream",
     "text": [
      "N = 2,  Integral = 1685.4382437088263\n",
      "N = 2.0,  Integral = 915.4177518285321\n",
      "N = 4.0,  Integral = 640.1227136732504\n",
      "N = 8.0,  Integral = 561.6883843375167\n",
      "N = 16.0,  Integral = 541.3428434985228\n",
      "N = 32.0,  Integral = 536.207747548939\n",
      "N = 64.0,  Integral = 534.92088517879\n",
      "N = 128.0,  Integral = 534.5989758648831\n"
     ]
    }
   ],
   "source": [
    "calc_e_adaptive2 = adaptive_trapezoid(np.exp, a=0, b=2*np.pi, acc=0.5, output=True)"
   ]
  },
  {
   "cell_type": "code",
   "execution_count": 56,
   "id": "8edb9f7e",
   "metadata": {},
   "outputs": [
    {
     "name": "stdout",
     "output_type": "stream",
     "text": [
      "534.598975864883\n"
     ]
    }
   ],
   "source": [
    "calc_e_trapezoid2 = trapezoid(np.exp, 0, 2*np.pi, 128)\n",
    "print(calc_e_trapezoid2)"
   ]
  },
  {
   "cell_type": "code",
   "execution_count": 57,
   "id": "a11c9349",
   "metadata": {},
   "outputs": [
    {
     "name": "stdout",
     "output_type": "stream",
     "text": [
      "534.4916727602475\n"
     ]
    }
   ],
   "source": [
    "calc_e_simpson2 = simpson(np.exp, 0, 2*np.pi, 128)\n",
    "print(calc_e_simpson2)"
   ]
  },
  {
   "cell_type": "markdown",
   "id": "626e977b",
   "metadata": {},
   "source": [
    "Both adaptive and traditional trepazoid methods are accurate up to 3 digits, while the Simpson method is accurate up to 7 digits! "
   ]
  },
  {
   "cell_type": "markdown",
   "id": "64604874",
   "metadata": {},
   "source": [
    "---\n",
    "Next we change the range to x = [-1. 1]. The expected result is: "
   ]
  },
  {
   "cell_type": "code",
   "execution_count": 58,
   "id": "31c13005",
   "metadata": {},
   "outputs": [
    {
     "data": {
      "text/plain": [
       "2.3504023872876028"
      ]
     },
     "execution_count": 58,
     "metadata": {},
     "output_type": "execute_result"
    }
   ],
   "source": [
    "np.exp(1)-np.exp(-1)"
   ]
  },
  {
   "cell_type": "code",
   "execution_count": 59,
   "id": "8f9d3fa3",
   "metadata": {},
   "outputs": [
    {
     "data": {
      "image/png": "[encoded data removed]",
      "text/plain": [
       "<Figure size 432x288 with 1 Axes>"
      ]
     },
     "metadata": {
      "needs_background": "light"
     },
     "output_type": "display_data"
    }
   ],
   "source": [
    "a = -1\n",
    "b = 1\n",
    "x = np.linspace(a, b, 10000)\n",
    "y = np.exp(x)\n",
    "plt.xlabel(\"x\")\n",
    "plt.ylabel(\"exp(x)\")\n",
    "\n",
    "# An integral is the area under a curve.\n",
    "plt.fill_between(x, y)\n",
    "plt.show()"
   ]
  },
  {
   "cell_type": "code",
   "execution_count": 61,
   "id": "210570af",
   "metadata": {},
   "outputs": [
    {
     "name": "stdout",
     "output_type": "stream",
     "text": [
      "N = 2,  Integral = 3.0861612696304874\n",
      "N = 2.0,  Integral = 2.5430806348152437\n",
      "N = 4.0,  Integral = 2.3991662826140026\n",
      "N = 8.0,  Integral = 2.36263133358521\n"
     ]
    }
   ],
   "source": [
    "calc_e_adaptive3 = adaptive_trapezoid(np.exp, a=-1, b=1, acc=0.05, output=True)"
   ]
  },
  {
   "cell_type": "code",
   "execution_count": 62,
   "id": "d627d163",
   "metadata": {},
   "outputs": [
    {
     "name": "stdout",
     "output_type": "stream",
     "text": [
      "2.3626313335852105\n"
     ]
    }
   ],
   "source": [
    "calc_e_trapezoid3 = trapezoid(np.exp, -1, 1, 8)\n",
    "print(calc_e_trapezoid3)"
   ]
  },
  {
   "cell_type": "code",
   "execution_count": 63,
   "id": "3ab728e9",
   "metadata": {},
   "outputs": [
    {
     "name": "stdout",
     "output_type": "stream",
     "text": [
      "2.3504530172422795\n"
     ]
    }
   ],
   "source": [
    "calc_e_simpson3 = simpson(np.exp, -1, 1, 8)\n",
    "print(calc_e_simpson3)"
   ]
  },
  {
   "cell_type": "markdown",
   "id": "ca316c4f",
   "metadata": {},
   "source": [
    "The Simpson method is accurate up to 5 digits. While the trapezoid methods are accurate up to 2 digits. Here you might notice that we only used 8 subdivisions to reach the required level of accuracy. This is because the real area is quite small. Still, the Simpson method can give us surprisingly good result with so few subdivisions."
   ]
  },
  {
   "cell_type": "markdown",
   "id": "3787300d",
   "metadata": {},
   "source": [
    "---\n",
    "#### Problem 1.2\n",
    "\n",
    "We repeat the same steps as above for a new function $y = x^3$. In the range x = [0,10], the result we expect is:"
   ]
  },
  {
   "cell_type": "code",
   "execution_count": 2,
   "id": "5a92efc1",
   "metadata": {},
   "outputs": [
    {
     "data": {
      "text/plain": [
       "2500.0"
      ]
     },
     "execution_count": 2,
     "metadata": {},
     "output_type": "execute_result"
    }
   ],
   "source": [
    "np.power(10, 4)/4"
   ]
  },
  {
   "cell_type": "code",
   "execution_count": 33,
   "id": "d6e53fd6",
   "metadata": {
    "scrolled": true
   },
   "outputs": [
    {
     "data": {
      "image/png": "[encoded data removed]",
      "text/plain": [
       "<Figure size 432x288 with 1 Axes>"
      ]
     },
     "metadata": {
      "needs_background": "light"
     },
     "output_type": "display_data"
    }
   ],
   "source": [
    "a = 0\n",
    "b = 10\n",
    "x = np.linspace(a, b, 10000)\n",
    "y = np.power(x, 3)\n",
    "plt.xlabel(\"x\")\n",
    "plt.ylabel(\"x^3\")\n",
    "\n",
    "# An integral is the area under a curve.\n",
    "plt.fill_between(x, y)\n",
    "plt.show()"
   ]
  },
  {
   "cell_type": "code",
   "execution_count": 6,
   "id": "c317a278",
   "metadata": {},
   "outputs": [],
   "source": [
    "# We define the function first. \n",
    "# Somehow we could't put np.power(x, 3) directly into the argument.\n",
    "\n",
    "def f(x) :\n",
    "    return np.power(x, 3)"
   ]
  },
  {
   "cell_type": "code",
   "execution_count": 5,
   "id": "a7d257e5",
   "metadata": {},
   "outputs": [
    {
     "name": "stdout",
     "output_type": "stream",
     "text": [
      "N = 2,  Integral = 5000.0\n",
      "N = 2.0,  Integral = 3125.0\n",
      "N = 4.0,  Integral = 2656.25\n",
      "N = 8.0,  Integral = 2539.0625\n",
      "N = 16.0,  Integral = 2509.765625\n",
      "N = 32.0,  Integral = 2502.44140625\n",
      "N = 64.0,  Integral = 2500.6103515625\n",
      "N = 128.0,  Integral = 2500.152587890625\n"
     ]
    }
   ],
   "source": [
    "calc_e_adaptive4 = adaptive_trapezoid(f, a=0, b=10, acc=0.5, output=True)"
   ]
  },
  {
   "cell_type": "code",
   "execution_count": 7,
   "id": "ca365b8c",
   "metadata": {},
   "outputs": [
    {
     "name": "stdout",
     "output_type": "stream",
     "text": [
      "2500.152587890625\n"
     ]
    }
   ],
   "source": [
    "calc_e_trapezoid4 = trapezoid(f, 0, 10, 128)\n",
    "print(calc_e_trapezoid4)"
   ]
  },
  {
   "cell_type": "code",
   "execution_count": 8,
   "id": "ad37089d",
   "metadata": {},
   "outputs": [
    {
     "name": "stdout",
     "output_type": "stream",
     "text": [
      "2500.0\n"
     ]
    }
   ],
   "source": [
    "calc_e_simpson4 = simpson(f, 0, 10, 128)\n",
    "print(calc_e_simpson4)"
   ]
  },
  {
   "cell_type": "markdown",
   "id": "b61edb05",
   "metadata": {},
   "source": [
    "The trepazoid methods are accurate up to 4 digits. The Simpson method gives us the exact answer! Initially it is surprising, but if we think about it, the Simpson method uses a polynomial to match the curve, and in this case, it can find a perfect match since the curve is a polynomial function.\n"
   ]
  },
  {
   "cell_type": "markdown",
   "id": "779a7829",
   "metadata": {},
   "source": [
    "---\n",
    "Changing the range to x = [0, 2𝜋]. The answer we expect is:"
   ]
  },
  {
   "cell_type": "code",
   "execution_count": 9,
   "id": "75166955",
   "metadata": {},
   "outputs": [
    {
     "data": {
      "text/plain": [
       "389.63636413600966"
      ]
     },
     "execution_count": 9,
     "metadata": {},
     "output_type": "execute_result"
    }
   ],
   "source": [
    "np.power(np.pi*2, 4)/4"
   ]
  },
  {
   "cell_type": "code",
   "execution_count": 32,
   "id": "767b077c",
   "metadata": {},
   "outputs": [
    {
     "data": {
      "image/png": "[encoded data removed]",
      "text/plain": [
       "<Figure size 432x288 with 1 Axes>"
      ]
     },
     "metadata": {
      "needs_background": "light"
     },
     "output_type": "display_data"
    }
   ],
   "source": [
    "a = 0\n",
    "b = np.pi*2\n",
    "x = np.linspace(a, b, 10000)\n",
    "y = np.power(x, 3)\n",
    "plt.xlabel(\"x\")\n",
    "plt.ylabel(\"x^3\")\n",
    "\n",
    "# An integral is the area under a curve.\n",
    "plt.fill_between(x, y)\n",
    "plt.show()"
   ]
  },
  {
   "cell_type": "code",
   "execution_count": 11,
   "id": "93918ed3",
   "metadata": {},
   "outputs": [
    {
     "name": "stdout",
     "output_type": "stream",
     "text": [
      "N = 2,  Integral = 779.2727282720193\n",
      "N = 2.0,  Integral = 487.04545517001213\n",
      "N = 4.0,  Integral = 413.98863689451036\n",
      "N = 8.0,  Integral = 395.72443232563484\n",
      "N = 16.0,  Integral = 391.15838118341594\n",
      "N = 32.0,  Integral = 390.01686839786123\n",
      "N = 64.0,  Integral = 389.7314902014725\n"
     ]
    }
   ],
   "source": [
    "calc_e_adaptive5 = adaptive_trapezoid(f, a=0, b=np.pi*2, acc=0.5, output=True)"
   ]
  },
  {
   "cell_type": "code",
   "execution_count": 12,
   "id": "404b812c",
   "metadata": {},
   "outputs": [
    {
     "name": "stdout",
     "output_type": "stream",
     "text": [
      "389.73149020147264\n"
     ]
    }
   ],
   "source": [
    "calc_e_trapezoid5 = trapezoid(f, 0, np.pi*2, 64)\n",
    "print(calc_e_trapezoid5)"
   ]
  },
  {
   "cell_type": "code",
   "execution_count": 14,
   "id": "e09c5dec",
   "metadata": {},
   "outputs": [
    {
     "name": "stdout",
     "output_type": "stream",
     "text": [
      "389.63636413600966\n"
     ]
    }
   ],
   "source": [
    "calc_e_simpson5 = simpson(f, 0, np.pi*2, 64)\n",
    "print(calc_e_simpson5)"
   ]
  },
  {
   "cell_type": "markdown",
   "id": "ddaea79f",
   "metadata": {},
   "source": [
    "Simpson method gives exact answer. But does it always give us the exact answer when the function is a polynomial? Not necessarily, as We shall see in the next section. I don't know the reason.\n",
    "\n",
    "The trepazoid methods are accurate up to 3 digits."
   ]
  },
  {
   "cell_type": "markdown",
   "id": "3584a31b",
   "metadata": {},
   "source": [
    "---\n",
    "Changing the range to x = [-1, 1]. The answer we expect is:"
   ]
  },
  {
   "cell_type": "code",
   "execution_count": 15,
   "id": "4753b5aa",
   "metadata": {},
   "outputs": [
    {
     "data": {
      "text/plain": [
       "0.0"
      ]
     },
     "execution_count": 15,
     "metadata": {},
     "output_type": "execute_result"
    }
   ],
   "source": [
    "np.power(1, 4)/4 - np.power(-1, 4)/4"
   ]
  },
  {
   "cell_type": "code",
   "execution_count": 31,
   "id": "f030d680",
   "metadata": {},
   "outputs": [
    {
     "data": {
      "image/png": "[encoded data removed]",
      "text/plain": [
       "<Figure size 432x288 with 1 Axes>"
      ]
     },
     "metadata": {
      "needs_background": "light"
     },
     "output_type": "display_data"
    }
   ],
   "source": [
    "a = -1\n",
    "b = 1\n",
    "x = np.linspace(a, b, 10000)\n",
    "y = np.power(x, 3)\n",
    "plt.xlabel(\"x\")\n",
    "plt.ylabel(\"x^3\")\n",
    "\n",
    "# An integral is the area under a curve.\n",
    "plt.fill_between(x, y)\n",
    "plt.show()"
   ]
  },
  {
   "cell_type": "code",
   "execution_count": 18,
   "id": "fa5cdb99",
   "metadata": {},
   "outputs": [
    {
     "name": "stdout",
     "output_type": "stream",
     "text": [
      "N = 2,  Integral = 0.0\n",
      "N = 2.0,  Integral = 0.0\n"
     ]
    }
   ],
   "source": [
    "calc_e_adaptive6 = adaptive_trapezoid(f, a=-1, b=1, acc=0.05, output=True)"
   ]
  },
  {
   "cell_type": "code",
   "execution_count": 24,
   "id": "b56b8509",
   "metadata": {},
   "outputs": [
    {
     "name": "stdout",
     "output_type": "stream",
     "text": [
      "0.0\n"
     ]
    }
   ],
   "source": [
    "calc_e_trapezoid6 = trapezoid(f, -1, 1, 2)\n",
    "print(calc_e_trapezoid6)"
   ]
  },
  {
   "cell_type": "code",
   "execution_count": 25,
   "id": "a1119e4c",
   "metadata": {},
   "outputs": [
    {
     "name": "stdout",
     "output_type": "stream",
     "text": [
      "0.0\n"
     ]
    }
   ],
   "source": [
    "calc_e_simpson6 = simpson(f, -1, 1, 2)\n",
    "print(calc_e_simpson6)"
   ]
  },
  {
   "cell_type": "markdown",
   "id": "d838bf82",
   "metadata": {},
   "source": [
    "All three methods are exact. But it is a coincidence I think. Because the function is odd, when N =2 for the three methods, the function is divided equally across the origin, both areas are equal in magnitude but opposite in sign. This gives us the exact answer 0. For the adaptive trepazoid method, N = 2 is a good enough attempt, it has reached the accuracy level we want. So it stops there. Let's give the traditional trepazoid and Simpson methods more subdivisions, and see what we get:"
   ]
  },
  {
   "cell_type": "code",
   "execution_count": 28,
   "id": "0b2d0549",
   "metadata": {},
   "outputs": [
    {
     "name": "stdout",
     "output_type": "stream",
     "text": [
      "2.842170943040401e-17\n"
     ]
    }
   ],
   "source": [
    "calc_e_trapezoid6_2 = trapezoid(f, -1, 1, 1000)\n",
    "print(calc_e_trapezoid6_2)"
   ]
  },
  {
   "cell_type": "code",
   "execution_count": 29,
   "id": "3bfd6934",
   "metadata": {},
   "outputs": [
    {
     "name": "stdout",
     "output_type": "stream",
     "text": [
      "0.0\n"
     ]
    }
   ],
   "source": [
    "calc_e_simpson6_2 = simpson(f, -1, 1, 1000)\n",
    "print(calc_e_simpson6_2)"
   ]
  },
  {
   "cell_type": "markdown",
   "id": "d3269632",
   "metadata": {},
   "source": [
    "The tradional trepozoid method gives a really small number, but it's not exactly zero. The Simpson method still gives an exact answer."
   ]
  },
  {
   "cell_type": "code",
   "execution_count": 30,
   "id": "23702486",
   "metadata": {},
   "outputs": [
    {
     "name": "stdout",
     "output_type": "stream",
     "text": [
      "3.552713678800501e-17\n"
     ]
    }
   ],
   "source": [
    "calc_e_simpson6_3 = simpson(f, -1, 1, 50)\n",
    "print(calc_e_simpson6_3)"
   ]
  },
  {
   "cell_type": "markdown",
   "id": "73a77b71",
   "metadata": {},
   "source": [
    "But the Simpson doesn't always give us the exact answer in the case where the function is a polynomial, for example here I changed the number of subdivision to 50, and the Simpson method returns us with a really small number but it's not exactly zero. Why is it not able to give us the exact answer in this case? I don't know."
   ]
  },
  {
   "cell_type": "markdown",
   "id": "04bc1a44",
   "metadata": {},
   "source": [
    "---\n",
    "#### Problem 1.3\n",
    "\n",
    "We left the most difficult part to last. We repeat the same steps as above for a new function $y = \\sin{1/x}$. It's a difficult function to deal with, because the function behaves wildly when x is close to 0: we have $y = \\sin{(infinity)}$ which you can think of as a function that oscillates with infinite frequency. I don't think this function even has an anti-derivative, so we don't know the exact answer we should expect. Anyway, let's give it a try. We try to plot it first."
   ]
  },
  {
   "cell_type": "code",
   "execution_count": 34,
   "id": "84654d8c",
   "metadata": {},
   "outputs": [
    {
     "name": "stderr",
     "output_type": "stream",
     "text": [
      "/tmp/ipykernel_373/3282203340.py:4: RuntimeWarning: divide by zero encountered in true_divide\n",
      "  y = np.sin(1/x)\n",
      "/tmp/ipykernel_373/3282203340.py:4: RuntimeWarning: invalid value encountered in sin\n",
      "  y = np.sin(1/x)\n"
     ]
    },
    {
     "data": {
      "image/png": "[encoded data removed]",
      "text/plain": [
       "<Figure size 432x288 with 1 Axes>"
      ]
     },
     "metadata": {
      "needs_background": "light"
     },
     "output_type": "display_data"
    }
   ],
   "source": [
    "a = 0\n",
    "b = 10\n",
    "x = np.linspace(a, b, 10000)\n",
    "y = np.sin(1/x)\n",
    "plt.xlabel(\"x\")\n",
    "plt.ylabel(\"sin(1/x)\")\n",
    "\n",
    "# An integral is the area under a curve.\n",
    "plt.fill_between(x, y)\n",
    "plt.show()"
   ]
  },
  {
   "cell_type": "markdown",
   "id": "4d3ae124",
   "metadata": {},
   "source": [
    "It gets really crazy around x=0. But thankfully we can still plot it, and the program even knows we are dividing by 0 at x=0. Python is really smart."
   ]
  },
  {
   "cell_type": "code",
   "execution_count": 35,
   "id": "38b95270",
   "metadata": {},
   "outputs": [],
   "source": [
    "def f2(x) :\n",
    "    return np.sin(1/x)"
   ]
  },
  {
   "cell_type": "code",
   "execution_count": 46,
   "id": "a702a109",
   "metadata": {},
   "outputs": [
    {
     "name": "stdout",
     "output_type": "stream",
     "text": [
      "N = 2,  Integral = -1.2508003025422811\n",
      "N = 2.0,  Integral = 0.3679463053628617\n",
      "N = 4.0,  Integral = 1.489865147088916\n",
      "N = 8.0,  Integral = 2.312717836775412\n",
      "N = 16.0,  Integral = 2.7814517256516798\n",
      "N = 32.0,  Integral = 2.656482430311437\n",
      "N = 64.0,  Integral = 2.765085182544903\n",
      "N = 128.0,  Integral = 2.735209458924604\n"
     ]
    }
   ],
   "source": [
    "# we can not put the initial value of x at zero, \n",
    "# It will produce error message: \"dividing by zero!\"\n",
    "# So we give it a really small number\n",
    "calc_e_adaptive7 = adaptive_trapezoid(f2, a=0.000001, b=10, acc=0.05, output=True)"
   ]
  },
  {
   "cell_type": "code",
   "execution_count": 47,
   "id": "0ca9972e",
   "metadata": {},
   "outputs": [
    {
     "name": "stdout",
     "output_type": "stream",
     "text": [
      "2.7352094589246017\n"
     ]
    }
   ],
   "source": [
    "calc_e_trapezoid7 = trapezoid(f2, 0.000001, 10, 128)\n",
    "print(calc_e_trapezoid7)"
   ]
  },
  {
   "cell_type": "code",
   "execution_count": 49,
   "id": "1d4ec5ee",
   "metadata": {},
   "outputs": [
    {
     "name": "stdout",
     "output_type": "stream",
     "text": [
      "2.725250884384502\n"
     ]
    }
   ],
   "source": [
    "calc_e_simpson7 = simpson(f2, 0.000001, 10, 128)\n",
    "print(calc_e_simpson7)"
   ]
  },
  {
   "cell_type": "markdown",
   "id": "c40e271d",
   "metadata": {},
   "source": [
    "I don't know which is more accurate, since I don't know the exact answer to this integral :P "
   ]
  },
  {
   "cell_type": "markdown",
   "id": "f674af5d",
   "metadata": {},
   "source": [
    "---\n",
    "Changing the range to x = [0, 2𝜋]. "
   ]
  },
  {
   "cell_type": "code",
   "execution_count": 54,
   "id": "e5f5f1c9",
   "metadata": {},
   "outputs": [
    {
     "data": {
      "image/png": "[encoded data removed]",
      "text/plain": [
       "<Figure size 432x288 with 1 Axes>"
      ]
     },
     "metadata": {
      "needs_background": "light"
     },
     "output_type": "display_data"
    }
   ],
   "source": [
    "a = 0.000001\n",
    "b = np.pi*2\n",
    "x = np.linspace(a, b, 10000)\n",
    "y = np.sin(1/x)\n",
    "plt.xlabel(\"x\")\n",
    "plt.ylabel(\"sin(1/x)\")\n",
    "\n",
    "# An integral is the area under a curve.\n",
    "plt.fill_between(x, y)\n",
    "plt.show()"
   ]
  },
  {
   "cell_type": "markdown",
   "id": "461819ff",
   "metadata": {},
   "source": [
    "We can see more vividly the wild behavior around x=0 now as we zoomed in a little. Here we tried setting a small value for the initial value of x and avoided x = 0."
   ]
  },
  {
   "cell_type": "code",
   "execution_count": 57,
   "id": "977c560a",
   "metadata": {},
   "outputs": [
    {
     "name": "stdout",
     "output_type": "stream",
     "text": [
      "N = 2,  Integral = -0.6016451056421456\n",
      "N = 2.0,  Integral = 0.6823756193588159\n",
      "N = 4.0,  Integral = 1.6058326173215518\n",
      "N = 8.0,  Integral = 2.2171322542692145\n",
      "N = 16.0,  Integral = 2.297143775129289\n",
      "N = 32.0,  Integral = 2.13531290061472\n",
      "N = 64.0,  Integral = 2.1360367741400452\n"
     ]
    }
   ],
   "source": [
    "calc_e_adaptive8 = adaptive_trapezoid(f2, a=0.000001, b=np.pi*2, acc=0.005, output=True)"
   ]
  },
  {
   "cell_type": "code",
   "execution_count": 58,
   "id": "d498d492",
   "metadata": {},
   "outputs": [
    {
     "name": "stdout",
     "output_type": "stream",
     "text": [
      "2.136036774140045\n"
     ]
    }
   ],
   "source": [
    "calc_e_trapezoid8 = trapezoid(f2, 0.000001, np.pi*2, 64)\n",
    "print(calc_e_trapezoid8)"
   ]
  },
  {
   "cell_type": "code",
   "execution_count": 59,
   "id": "78314a8c",
   "metadata": {},
   "outputs": [
    {
     "name": "stdout",
     "output_type": "stream",
     "text": [
      "2.1362780653151536\n"
     ]
    }
   ],
   "source": [
    "calc_e_simpson8 = simpson(f2, 0.000001, np.pi*2, 64)\n",
    "print(calc_e_simpson8)"
   ]
  },
  {
   "cell_type": "markdown",
   "id": "ae40c7df",
   "metadata": {},
   "source": [
    "---\n",
    "Changing the range to x = [-1, 1]. "
   ]
  },
  {
   "cell_type": "code",
   "execution_count": 60,
   "id": "d12ea21d",
   "metadata": {},
   "outputs": [
    {
     "data": {
      "image/png": "[encoded data removed]",
      "text/plain": [
       "<Figure size 432x288 with 1 Axes>"
      ]
     },
     "metadata": {
      "needs_background": "light"
     },
     "output_type": "display_data"
    }
   ],
   "source": [
    "a = -1\n",
    "b = 1\n",
    "x = np.linspace(a, b, 10000)\n",
    "y = np.sin(1/x)\n",
    "plt.xlabel(\"x\")\n",
    "plt.ylabel(\"sin(1/x)\")\n",
    "\n",
    "# An integral is the area under a curve.\n",
    "plt.fill_between(x, y)\n",
    "plt.show()"
   ]
  },
  {
   "cell_type": "markdown",
   "id": "409a48bd",
   "metadata": {},
   "source": [
    "This graph actually look nice! And we can tell it is an odd function. So the integration result we expect should be 0. And surprisingly the \"divide by zero\" error didn't show up this time. I don't know why. "
   ]
  },
  {
   "cell_type": "code",
   "execution_count": 61,
   "id": "57422aba",
   "metadata": {},
   "outputs": [
    {
     "name": "stdout",
     "output_type": "stream",
     "text": [
      "N = 2,  Integral = 0.0\n",
      "N = 2.0,  Integral = nan\n"
     ]
    },
    {
     "name": "stderr",
     "output_type": "stream",
     "text": [
      "/tmp/ipykernel_373/2878438031.py:2: RuntimeWarning: divide by zero encountered in double_scalars\n",
      "  return np.sin(1/x)\n",
      "/tmp/ipykernel_373/2878438031.py:2: RuntimeWarning: invalid value encountered in sin\n",
      "  return np.sin(1/x)\n"
     ]
    }
   ],
   "source": [
    "calc_e_adaptive9 = adaptive_trapezoid(f2, a=-1, b=1, acc=0.005, output=True)"
   ]
  },
  {
   "cell_type": "markdown",
   "id": "2d490f9c",
   "metadata": {},
   "source": [
    "We can not avoid x=0 in the integration algorithm, so here is what I will do, I will divide the calculation into two parts, x = [0.000001, 1] and x = [-1, -0.000001], and add the two results together."
   ]
  },
  {
   "cell_type": "code",
   "execution_count": 62,
   "id": "3c2d4c6c",
   "metadata": {},
   "outputs": [
    {
     "name": "stdout",
     "output_type": "stream",
     "text": [
      "N = 2,  Integral = 0.24573849557956046\n",
      "N = 2.0,  Integral = 0.5775179226990026\n",
      "N = 4.0,  Integral = 0.3425446938786397\n",
      "N = 8.0,  Integral = 0.5907768584923015\n",
      "N = 16.0,  Integral = 0.5070140071048509\n",
      "N = 32.0,  Integral = 0.4909341436287946\n",
      "N = 64.0,  Integral = 0.5288325970771773\n",
      "N = 128.0,  Integral = 0.5177744139294383\n",
      "N = 256.0,  Integral = 0.5017040173719602\n",
      "N = 512.0,  Integral = 0.5090827444400221\n"
     ]
    }
   ],
   "source": [
    "calc_e_adaptive9_1 = adaptive_trapezoid(f2, a=0.000001, b=1, acc=0.005, output=True)"
   ]
  },
  {
   "cell_type": "code",
   "execution_count": 63,
   "id": "c9113a4f",
   "metadata": {},
   "outputs": [
    {
     "name": "stdout",
     "output_type": "stream",
     "text": [
      "N = 2,  Integral = -0.24573849557956046\n",
      "N = 2.0,  Integral = -0.5775179226990027\n",
      "N = 4.0,  Integral = -0.34254469387863984\n",
      "N = 8.0,  Integral = -0.5907768584923017\n",
      "N = 16.0,  Integral = -0.5070140071048522\n",
      "N = 32.0,  Integral = -0.4909341436287955\n",
      "N = 64.0,  Integral = -0.5288325970771763\n",
      "N = 128.0,  Integral = -0.5177744139294416\n",
      "N = 256.0,  Integral = -0.5017040173719642\n",
      "N = 512.0,  Integral = -0.5090827444400399\n"
     ]
    }
   ],
   "source": [
    "calc_e_adaptive9_2 = adaptive_trapezoid(f2, a=-1, b= -0.000001, acc=0.005, output=True)"
   ]
  },
  {
   "cell_type": "code",
   "execution_count": 65,
   "id": "5b6f49cf",
   "metadata": {},
   "outputs": [
    {
     "name": "stdout",
     "output_type": "stream",
     "text": [
      "-1.7763568394002505e-14\n"
     ]
    }
   ],
   "source": [
    "calc_e_adaptive9 = calc_e_adaptive9_1 + calc_e_adaptive9_2\n",
    "print (calc_e_adaptive9)"
   ]
  },
  {
   "cell_type": "markdown",
   "id": "50f1dcc8",
   "metadata": {},
   "source": [
    "This is a really small number close to zero. This is what we expected."
   ]
  },
  {
   "cell_type": "code",
   "execution_count": 67,
   "id": "2e74db15",
   "metadata": {},
   "outputs": [
    {
     "name": "stdout",
     "output_type": "stream",
     "text": [
      "0.5090827444400219\n"
     ]
    }
   ],
   "source": [
    "calc_e_trapezoid9_1 = trapezoid(f2, 0.000001, 1, 512)\n",
    "print(calc_e_trapezoid9_1)"
   ]
  },
  {
   "cell_type": "code",
   "execution_count": 68,
   "id": "11dc7ba1",
   "metadata": {},
   "outputs": [
    {
     "name": "stdout",
     "output_type": "stream",
     "text": [
      "-0.5090827444400394\n"
     ]
    }
   ],
   "source": [
    "calc_e_trapezoid9_2 = trapezoid(f2, -1, -0.000001, 512)\n",
    "print(calc_e_trapezoid9_2)"
   ]
  },
  {
   "cell_type": "code",
   "execution_count": 69,
   "id": "95895950",
   "metadata": {},
   "outputs": [
    {
     "name": "stdout",
     "output_type": "stream",
     "text": [
      "-1.7541523789077473e-14\n"
     ]
    }
   ],
   "source": [
    "calc_e_trapezoid9 = calc_e_trapezoid9_1 + calc_e_trapezoid9_2\n",
    "print (calc_e_trapezoid9)"
   ]
  },
  {
   "cell_type": "markdown",
   "id": "633aee2d",
   "metadata": {},
   "source": [
    "The adaptive and traditional trepazoid methods now give us different values now...why? Maybe the numbers are just too small?"
   ]
  },
  {
   "cell_type": "code",
   "execution_count": 70,
   "id": "98fe05bd",
   "metadata": {},
   "outputs": [
    {
     "name": "stdout",
     "output_type": "stream",
     "text": [
      "-2.19824158875781e-14\n"
     ]
    }
   ],
   "source": [
    "calc_e_simpson9_1 = simpson(f2, 0.000001, 1, 512)\n",
    "calc_e_simpson9_2 = simpson(f2, -1, -0.000001, 512)\n",
    "calc_e_simpson9 = calc_e_simpson9_1 + calc_e_simpson9_2\n",
    "print (calc_e_simpson9)"
   ]
  },
  {
   "cell_type": "markdown",
   "id": "86cbc2fc",
   "metadata": {},
   "source": [
    "The trepazoid methods are more accurate than the Simpson method this time!"
   ]
  },
  {
   "cell_type": "code",
   "execution_count": null,
   "id": "6608fc07",
   "metadata": {},
   "outputs": [],
   "source": []
  }
 ],
 "metadata": {
  "kernelspec": {
   "display_name": "Python 3 (ipykernel)",
   "language": "python",
   "name": "python3"
  },
  "language_info": {
   "codemirror_mode": {
    "name": "ipython",
    "version": 3
   },
   "file_extension": ".py",
   "mimetype": "text/x-python",
   "name": "python",
   "nbconvert_exporter": "python",
   "pygments_lexer": "ipython3",
   "version": "3.9.7"
  }
 },
 "nbformat": 4,
 "nbformat_minor": 5
}
