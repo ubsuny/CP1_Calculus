{
 "cells": [
  {
   "cell_type": "markdown",
   "id": "b964e0da-698c-494a-9be7-fd5155910588",
   "metadata": {},
   "source": [
    "# Homework 8 Problem 1\n",
    "\n",
    "## Luke Meiler\n",
    "\n",
    "### Imports"
   ]
  },
  {
   "cell_type": "code",
   "execution_count": 1,
   "id": "06e317d9-5477-4f79-9025-ea331b8462d6",
   "metadata": {},
   "outputs": [],
   "source": [
    "import math\n",
    "import numpy as np\n",
    "import matplotlib.pyplot as plt\n",
    "from integrals import *"
   ]
  },
  {
   "cell_type": "code",
   "execution_count": 9,
   "id": "25845881-30ec-41bb-bd02-3b8327f4b08e",
   "metadata": {},
   "outputs": [],
   "source": [
    "%load_ext pycodestyle_magic\n",
    "%pycodestyle_off"
   ]
  },
  {
   "cell_type": "code",
   "execution_count": 2,
   "id": "14b06719-236d-477c-83ff-3685dfd282da",
   "metadata": {},
   "outputs": [],
   "source": [
    "# Number of subintervals\n",
    "n1 = 100\n",
    "\n",
    "# Desired Accuracy\n",
    "acc = 0.01"
   ]
  },
  {
   "cell_type": "code",
   "execution_count": 3,
   "id": "b1bbb84a-719e-45c8-8b23-499ecc0f7970",
   "metadata": {},
   "outputs": [
    {
     "name": "stdout",
     "output_type": "stream",
     "text": [
      "N = 2,  Integral = 110137.32897403359\n",
      "N = 2.0,  Integral = 55810.73028252968\n",
      "N = 4.0,  Integral = 32455.927412306755\n",
      "N = 8.0,  Integral = 24821.354153296994\n",
      "N = 16.0,  Integral = 22737.81578168463\n",
      "N = 32.0,  Integral = 22204.418433198334\n",
      "N = 64.0,  Integral = 22070.25849666271\n",
      "N = 128.0,  Integral = 22036.667386590423\n",
      "N = 256.0,  Integral = 22028.26640638897\n",
      "N = 512.0,  Integral = 22026.16596105638\n",
      "N = 1024.0,  Integral = 22025.64083720381\n",
      "N = 2048.0,  Integral = 22025.509555458186\n",
      "N = 4096.0,  Integral = 22025.476734972854\n",
      "N = 8192.0,  Integral = 22025.46852984847\n",
      "Simpson: 22025.478016624784, Trapezoid: 22043.817291271436, Adaptive Trapezoid: 22025.46852984847\n"
     ]
    }
   ],
   "source": [
    "expSimp = simpson(np.exp, 0, 10, n1)\n",
    "# expSimp2 = simpson(np.exp, 0, 2*np.pi, n1)\n",
    "# expSimp3 = simpson(np.exp, -1, 1, n1)\n",
    "\n",
    "expTrap = trapezoid(np.exp, 0, 10, n1)\n",
    "# expTrap2 = trapezoid(np.exp, 0, 2*np.pi, n1)\n",
    "# expTrap3 = trapezoid(np.exp, -1, 1, n1)\n",
    "\n",
    "expAdp = adaptive_trapezoid(np.exp, 0, 10, acc, output=True)\n",
    "# expAdp2 = adaptive_trapezoid(np.exp, 0, 2*np.pi, n1)\n",
    "# expAdp3 = adaptive_trapezoid(np.exp, -1, 1, n1)\n",
    "\n",
    "print(\"Simpson: {}, Trapezoid: {}, Adaptive Trapezoid: {}\".format(expSimp, expTrap, expAdp))"
   ]
  },
  {
   "cell_type": "code",
   "execution_count": 4,
   "id": "c10584e9-6d21-443d-972f-ca304feb80bf",
   "metadata": {},
   "outputs": [
    {
     "name": "stdout",
     "output_type": "stream",
     "text": [
      "N = 2,  Integral = 3.0951178220540245\n",
      "N = 2.0,  Integral = 2.5304497968881905\n",
      "N = 4.0,  Integral = 2.5292680175100286\n",
      "Simpson: 2.2894597239764987, Trapezoid: 2.3242075851696438, Adaptive Trapezoid: 2.5292680175100286\n"
     ]
    }
   ],
   "source": [
    "sinSimp = simpson(lambda x : np.sin(1/x), 0.001, 2*np.pi, n1)\n",
    "\n",
    "sinTrap = trapezoid(lambda x : np.sin(1/x), 0.001, 2*np.pi, n1)\n",
    "\n",
    "sinAdp = adaptive_trapezoid(lambda x : np.sin(1/x), 0.001, 2*np.pi, acc, output=True)\n",
    "\n",
    "print(\"Simpson: {}, Trapezoid: {}, Adaptive Trapezoid: {}\".format(sinSimp, sinTrap, sinAdp))"
   ]
  },
  {
   "cell_type": "code",
   "execution_count": 5,
   "id": "b7a1f02d-b4b2-4cb6-a1ef-3139934dfe4b",
   "metadata": {},
   "outputs": [],
   "source": [
    "def cubed(x):\n",
    "    \"\"\"Takes a value and returns the cube of it.\n",
    "\n",
    "    Parameters:\n",
    "\n",
    "    x: int\n",
    "\n",
    "        The value that you wish to cube\n",
    "\n",
    "    Returns:\n",
    "\n",
    "    cubed: int\n",
    "\n",
    "        The x value cubed\"\"\"\n",
    "    cubed = np.power(x, 3)\n",
    "    return cubed"
   ]
  },
  {
   "cell_type": "code",
   "execution_count": 6,
   "id": "6e102915-beab-467c-8f27-74d69dbc4109",
   "metadata": {},
   "outputs": [
    {
     "name": "stdout",
     "output_type": "stream",
     "text": [
      "N = 2,  Integral = 0.0\n",
      "N = 2.0,  Integral = 0.0\n",
      "Simpson: 3.700743415417188e-17, Trapezoid: 3.552713678800501e-17, Adaptive Trapezoid: 0.0\n"
     ]
    }
   ],
   "source": [
    "cubeSimp = simpson(cubed, -1, 1, n1)\n",
    "\n",
    "cubeTrap = trapezoid(cubed, -1, 1, n1)\n",
    "\n",
    "cubeAdp = adaptive_trapezoid(cubed, -1, 1, acc, output=True)\n",
    "\n",
    "print(\"Simpson: {}, Trapezoid: {}, Adaptive Trapezoid: {}\".format(cubeSimp, cubeTrap, cubeAdp))"
   ]
  },
  {
   "cell_type": "markdown",
   "id": "fac96fff-58f8-4f5b-a14a-4a519dda8175",
   "metadata": {},
   "source": [
    "## Comparison\n",
    "\n",
    "Looking at these three functions, we can compare the accuracies and efficiencies of the three algorithms on them. Starting with the exponenetial function, we will take the correct answer from Wolfram Alpha to be $22025.4657948067$. We immediately see that the trapezoidal algorithm did not even get the correct integer. The adaptive trapezoidal algorithm was the closest of the three, having taken 14 steps to reach the answer to the specified accuracy of $0.01$\n",
    "\n",
    "Moving on to the second function: $\\sin(\\frac{1}{x})$. Again from Wolfram Alpha we take the correct answer to be $2.2627709233212313$. We see that this time the adaptive trapezoidal algorithm was the furthest from the correct answer, with Simpson being the closest. The former only took 3 steps, so if we increase the accuracy then the adaptive trapezoidal should be the closest. Let's try reducing the accuracy threshold from $0.01$ to $0.001$:"
   ]
  },
  {
   "cell_type": "code",
   "execution_count": 7,
   "id": "9e81cb8c-95de-48dc-8d59-e73b836ed39c",
   "metadata": {},
   "outputs": [
    {
     "name": "stdout",
     "output_type": "stream",
     "text": [
      "N = 2,  Integral = 3.0951178220540245\n",
      "N = 2.0,  Integral = 2.5304497968881905\n",
      "N = 4.0,  Integral = 2.5292680175100286\n"
     ]
    }
   ],
   "source": [
    "sinAdp2 = adaptive_trapezoid(lambda x : np.sin(1/x), 0.001, 2*np.pi, 0.001, output=True)"
   ]
  },
  {
   "cell_type": "markdown",
   "id": "bc593f8c-fac0-4ebe-bcb5-2e4167e7dc41",
   "metadata": {},
   "source": [
    "This did not change anything, so let's try lowering it one more time:"
   ]
  },
  {
   "cell_type": "code",
   "execution_count": 8,
   "id": "be9d6b00-91af-4d2d-9666-d0214a438ab9",
   "metadata": {},
   "outputs": [
    {
     "name": "stdout",
     "output_type": "stream",
     "text": [
      "N = 2,  Integral = 3.0951178220540245\n",
      "N = 2.0,  Integral = 2.5304497968881905\n",
      "N = 4.0,  Integral = 2.5292680175100286\n",
      "N = 8.0,  Integral = 2.6781963428010456\n",
      "N = 16.0,  Integral = 2.529189610341927\n",
      "N = 32.0,  Integral = 2.2492139772996858\n",
      "N = 64.0,  Integral = 2.201254431210271\n",
      "N = 128.0,  Integral = 2.296892965294766\n",
      "N = 256.0,  Integral = 2.333840754973749\n",
      "N = 512.0,  Integral = 2.300529546433894\n",
      "N = 1024.0,  Integral = 2.287520349929671\n",
      "N = 2048.0,  Integral = 2.270616364560721\n",
      "N = 4096.0,  Integral = 2.261950293846196\n",
      "N = 8192.0,  Integral = 2.2640752392736543\n",
      "N = 16384.0,  Integral = 2.2644039264688733\n",
      "N = 32768.0,  Integral = 2.2635804731922153\n",
      "N = 65536.0,  Integral = 2.263441240200778\n"
     ]
    }
   ],
   "source": [
    "sinAdp3 = adaptive_trapezoid(lambda x : np.sin(1/x), 0.001, 2*np.pi, 0.0001, output=True)"
   ]
  },
  {
   "cell_type": "markdown",
   "id": "4ff0107a-1f6c-4980-b994-014c56dfc56f",
   "metadata": {},
   "source": [
    "Here we now see that the algorithm took the same number of steps as last time, 14, to reach the desired accuracy. It is by far the most accuracte at this point as well.\n",
    "\n",
    "Last, we look at the integral of $x^3$ from $-1$ to $1$. We know that the integral should be $0$, as we are integrating an odd function over symmetric bounds. We see that only the adaptive trapezoidal algorithm reached the correct answer, and it did it in only two steps. The other algorithms had very small answers, but only the adaptive trapezoidal algorithm reached the actual correct answer.\n",
    "\n",
    "We can conclude that the adaptive trapezoidal algorithm is the most accurate of the three, as it was the algorithm to reach the most correct answer most of the time."
   ]
  },
  {
   "cell_type": "markdown",
   "id": "5989007b-c6f9-423f-be7d-96364d2dbf83",
   "metadata": {},
   "source": [
    "## Antiderivatives and Plotting\n",
    "\n",
    "The antiderivative of $e^x$ is just $e^x$. The antiderivative for $\\sin(\\frac{1}{x})$ gives a real and imaginary part, so we will just take the real component $x \\sin(\\frac{1}{x})$. The antiderivative of $x^3$ is just $\\frac{x^4}{4}$."
   ]
  },
  {
   "cell_type": "markdown",
   "id": "9a4f2a4a-886d-49c3-bda0-d98abfb4b2f5",
   "metadata": {},
   "source": [
    "### Plotting\n",
    "\n",
    "First the exponential function on the interval $[0,10]$:"
   ]
  },
  {
   "cell_type": "code",
   "execution_count": 9,
   "id": "a50cdde3-285a-4fa2-952f-57ff390b7f13",
   "metadata": {},
   "outputs": [
    {
     "data": {
      "image/png": "[encoded data removed]",
      "text/plain": [
       "<Figure size 432x288 with 1 Axes>"
      ]
     },
     "metadata": {
      "needs_background": "light"
     },
     "output_type": "display_data"
    }
   ],
   "source": [
    "x_1 = 0\n",
    "x_2 = 10\n",
    "xvals = np.linspace(x_1, x_2, 10000)\n",
    "yvals = np.exp(xvals)\n",
    "plt.xlabel(\"x\")\n",
    "plt.ylabel(\"y\")\n",
    "plt.plot(xvals, yvals)\n",
    "plt.show()"
   ]
  },
  {
   "cell_type": "markdown",
   "id": "84a4dd25-d314-413e-bbd1-8614f92cff0f",
   "metadata": {},
   "source": [
    "Next, the $\\sin(\\frac{1}{x})$ antiderivative from $0$ to $2 \\pi$."
   ]
  },
  {
   "cell_type": "code",
   "execution_count": 10,
   "id": "85f14b11-dd5b-4eda-9217-b21d247d9212",
   "metadata": {},
   "outputs": [
    {
     "data": {
      "image/png": "[encoded data removed]",
      "text/plain": [
       "<Figure size 432x288 with 1 Axes>"
      ]
     },
     "metadata": {
      "needs_background": "light"
     },
     "output_type": "display_data"
    }
   ],
   "source": [
    "a = 0.01\n",
    "b = 2*np.pi\n",
    "xvals2 = np.linspace(a, b, 10000)\n",
    "yvals2 = xvals2*np.sin(1./xvals2)\n",
    "plt.xlabel(\"x\")\n",
    "plt.ylabel(\"y\")\n",
    "plt.plot(xvals2, yvals2)\n",
    "plt.show()"
   ]
  },
  {
   "cell_type": "markdown",
   "id": "251307c6-9c8a-4597-8f22-afd0814fcbc3",
   "metadata": {},
   "source": [
    "Last, we plot the function $\\frac{x^4}{4}$ from $-1$ to $1$:"
   ]
  },
  {
   "cell_type": "code",
   "execution_count": 11,
   "id": "08c74b28-eafc-4968-b319-c2d2b6131266",
   "metadata": {},
   "outputs": [
    {
     "data": {
      "image/png": "[encoded data removed]",
      "text/plain": [
       "<Figure size 432x288 with 1 Axes>"
      ]
     },
     "metadata": {
      "needs_background": "light"
     },
     "output_type": "display_data"
    }
   ],
   "source": [
    "x_3 = 0\n",
    "x_4 = 10\n",
    "xvals3 = np.linspace(x_3, x_4, 10000)\n",
    "yvals3 = (xvals3**4) / 4\n",
    "plt.xlabel(\"x\")\n",
    "plt.ylabel(\"y\")\n",
    "plt.plot(xvals3, yvals3)\n",
    "plt.show()"
   ]
  },
  {
   "cell_type": "code",
   "execution_count": null,
   "id": "7b098be3-67d5-4e7f-b351-3edeb78f9e1e",
   "metadata": {},
   "outputs": [],
   "source": []
  }
 ],
 "metadata": {
  "kernelspec": {
   "display_name": "Python 3 (ipykernel)",
   "language": "python",
   "name": "python3"
  },
  "language_info": {
   "codemirror_mode": {
    "name": "ipython",
    "version": 3
   },
   "file_extension": ".py",
   "mimetype": "text/x-python",
   "name": "python",
   "nbconvert_exporter": "python",
   "pygments_lexer": "ipython3",
   "version": "3.9.5"
  }
 },
 "nbformat": 4,
 "nbformat_minor": 5
}
