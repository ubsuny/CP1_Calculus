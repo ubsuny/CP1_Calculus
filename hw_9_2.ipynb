{
 "cells": [
  {
   "cell_type": "markdown",
   "id": "0760a369-1f4a-4552-ad0a-ad500421cb56",
   "metadata": {},
   "source": []
  },
  {
   "cell_type": "markdown",
   "id": "5f6cb863-aa6b-4696-ae4e-ea8cd3316f90",
   "metadata": {
    "tags": []
   },
   "source": [
    "# HW 9 experiment 2\n",
    "In this experiment, I am going to  collected the data of  accelertion in elevator using the phyphox app  on my phone. Using the pressure sensors (barometer) of the phone the app will take the altitue data. The app also shows the velocity as well as acceleration data at the same time . \n",
    "## Acceleration in  Elevator Experiment (with g)\n",
    "First, Using the app I am going to take data for the acceleration. I let the app to take the data while the elovator was going down for from 3rd floor to 1st floor floor.  The data plotted in the app looks like this :\n",
    "\n",
    "![image](elv.png)"
   ]
  },
  {
   "cell_type": "markdown",
   "id": "0257e95b-7c85-4b2a-96a6-1d363b2fe9ce",
   "metadata": {},
   "source": [
    "As the elevator went downward and its inital positionis set to zero, the altitude values are negetvie. "
   ]
  },
  {
   "cell_type": "markdown",
   "id": "a5a49ade-4aef-4876-8ff1-3e14c3e1c59a",
   "metadata": {},
   "source": [
    "I will use pandas to import the data  and plot it ."
   ]
  },
  {
   "cell_type": "code",
   "execution_count": 10,
   "id": "6f32eb1a-5d89-44d1-a8ee-9da42e006b2d",
   "metadata": {},
   "outputs": [],
   "source": [
    "import math\n",
    "import numpy as np\n",
    "import matplotlib.pyplot as plt\n",
    "import pandas as pd"
   ]
  },
  {
   "cell_type": "code",
   "execution_count": 16,
   "id": "389419a2-4d5d-4e61-aff9-b244511cfc0b",
   "metadata": {},
   "outputs": [
    {
     "data": {
      "text/html": [
       "<div>\n",
       "<style scoped>\n",
       "    .dataframe tbody tr th:only-of-type {\n",
       "        vertical-align: middle;\n",
       "    }\n",
       "\n",
       "    .dataframe tbody tr th {\n",
       "        vertical-align: top;\n",
       "    }\n",
       "\n",
       "    .dataframe thead th {\n",
       "        text-align: right;\n",
       "    }\n",
       "</style>\n",
       "<table border=\"1\" class=\"dataframe\">\n",
       "  <thead>\n",
       "    <tr style=\"text-align: right;\">\n",
       "      <th></th>\n",
       "      <th>Time (s)</th>\n",
       "      <th>Altitude (m)</th>\n",
       "    </tr>\n",
       "  </thead>\n",
       "  <tbody>\n",
       "    <tr>\n",
       "      <th>0</th>\n",
       "      <td>0.416288</td>\n",
       "      <td>0.000000</td>\n",
       "    </tr>\n",
       "    <tr>\n",
       "      <th>1</th>\n",
       "      <td>1.416865</td>\n",
       "      <td>-0.006441</td>\n",
       "    </tr>\n",
       "    <tr>\n",
       "      <th>2</th>\n",
       "      <td>2.417444</td>\n",
       "      <td>-0.017392</td>\n",
       "    </tr>\n",
       "    <tr>\n",
       "      <th>3</th>\n",
       "      <td>3.418018</td>\n",
       "      <td>-0.041869</td>\n",
       "    </tr>\n",
       "    <tr>\n",
       "      <th>4</th>\n",
       "      <td>4.418594</td>\n",
       "      <td>-0.041869</td>\n",
       "    </tr>\n",
       "    <tr>\n",
       "      <th>5</th>\n",
       "      <td>5.970119</td>\n",
       "      <td>-0.039292</td>\n",
       "    </tr>\n",
       "    <tr>\n",
       "      <th>6</th>\n",
       "      <td>6.970694</td>\n",
       "      <td>-0.030918</td>\n",
       "    </tr>\n",
       "    <tr>\n",
       "      <th>7</th>\n",
       "      <td>7.971272</td>\n",
       "      <td>-0.030918</td>\n",
       "    </tr>\n",
       "    <tr>\n",
       "      <th>8</th>\n",
       "      <td>8.971849</td>\n",
       "      <td>-0.054107</td>\n",
       "    </tr>\n",
       "    <tr>\n",
       "      <th>9</th>\n",
       "      <td>9.972424</td>\n",
       "      <td>-0.414170</td>\n",
       "    </tr>\n",
       "    <tr>\n",
       "      <th>10</th>\n",
       "      <td>10.973000</td>\n",
       "      <td>-1.032495</td>\n",
       "    </tr>\n",
       "    <tr>\n",
       "      <th>11</th>\n",
       "      <td>11.973578</td>\n",
       "      <td>-1.945746</td>\n",
       "    </tr>\n",
       "    <tr>\n",
       "      <th>12</th>\n",
       "      <td>12.974155</td>\n",
       "      <td>-3.177027</td>\n",
       "    </tr>\n",
       "    <tr>\n",
       "      <th>13</th>\n",
       "      <td>13.974731</td>\n",
       "      <td>-4.621921</td>\n",
       "    </tr>\n",
       "    <tr>\n",
       "      <th>14</th>\n",
       "      <td>14.975310</td>\n",
       "      <td>-6.067258</td>\n",
       "    </tr>\n",
       "    <tr>\n",
       "      <th>15</th>\n",
       "      <td>15.975882</td>\n",
       "      <td>-7.573542</td>\n",
       "    </tr>\n",
       "  </tbody>\n",
       "</table>\n",
       "</div>"
      ],
      "text/plain": [
       "     Time (s)  Altitude (m)\n",
       "0    0.416288      0.000000\n",
       "1    1.416865     -0.006441\n",
       "2    2.417444     -0.017392\n",
       "3    3.418018     -0.041869\n",
       "4    4.418594     -0.041869\n",
       "5    5.970119     -0.039292\n",
       "6    6.970694     -0.030918\n",
       "7    7.971272     -0.030918\n",
       "8    8.971849     -0.054107\n",
       "9    9.972424     -0.414170\n",
       "10  10.973000     -1.032495\n",
       "11  11.973578     -1.945746\n",
       "12  12.974155     -3.177027\n",
       "13  13.974731     -4.621921\n",
       "14  14.975310     -6.067258\n",
       "15  15.975882     -7.573542"
      ]
     },
     "execution_count": 16,
     "metadata": {},
     "output_type": "execute_result"
    }
   ],
   "source": [
    "df = pd.read_csv('elevator.csv', usecols =[\"Time (s)\", \"Altitude (m)\"] )\n",
    "df"
   ]
  },
  {
   "cell_type": "code",
   "execution_count": 87,
   "id": "8260f7ca-ecb8-46f2-8a06-a7dad1fd91a4",
   "metadata": {},
   "outputs": [],
   "source": [
    "X = df['Time (s)']\n",
    "Y = df['Altitude (m)']"
   ]
  },
  {
   "cell_type": "code",
   "execution_count": 88,
   "id": "e7d38b43-39a6-43db-8f1d-549fc0b00429",
   "metadata": {},
   "outputs": [
    {
     "data": {
      "text/plain": [
       "Text(0.5, 1.0, ' Elevator Experiment')"
      ]
     },
     "execution_count": 88,
     "metadata": {},
     "output_type": "execute_result"
    },
    {
     "data": {
      "image/png": "[encoded data removed]",
      "text/plain": [
       "<Figure size 720x504 with 1 Axes>"
      ]
     },
     "metadata": {
      "needs_background": "light"
     },
     "output_type": "display_data"
    }
   ],
   "source": [
    "fig, ax = plt.subplots(figsize=(10,7))\n",
    "ax.plot(X,Y, lw=3)\n",
    "ax.set_xlabel('time(s)',fontsize=14)\n",
    "ax.set_ylabel('altitude ',fontsize=14)\n",
    "ax.set_title(' Elevator Experiment', fontsize=14)"
   ]
  },
  {
   "cell_type": "markdown",
   "id": "129bd287-8e1a-4c6c-9e18-3d18ff6f8b9a",
   "metadata": {},
   "source": [
    "## Analysis\n",
    "I am interested to calculate the velocity of the elevator . "
   ]
  },
  {
   "cell_type": "markdown",
   "id": "23a90c9f-1cf4-4b01-a607-6e9119d54b98",
   "metadata": {},
   "source": [
    "From the altitude, we can determine the velocity of the elevator  by differentialting the altitude values. Out motion is in - y direction only. "
   ]
  },
  {
   "cell_type": "markdown",
   "id": "c6da9b8f-4265-42d1-812e-3daf003ed3d4",
   "metadata": {
    "tags": []
   },
   "source": [
    "### Velocity\n",
    "Necessary imports ( I am going to use gradient from numpy) ."
   ]
  },
  {
   "cell_type": "code",
   "execution_count": 94,
   "id": "d346d7a7-24fe-4239-90d5-79facc28725e",
   "metadata": {},
   "outputs": [],
   "source": [
    "from numpy import gradient"
   ]
  },
  {
   "cell_type": "code",
   "execution_count": 96,
   "id": "e70ca748-cf1c-422c-926d-b0084b04b43c",
   "metadata": {},
   "outputs": [],
   "source": [
    "Vel = np.gradient(Y)"
   ]
  },
  {
   "cell_type": "code",
   "execution_count": 97,
   "id": "f11913aa-1dd0-48b9-a235-c16a7de4df6a",
   "metadata": {},
   "outputs": [
    {
     "data": {
      "text/plain": [
       "Text(0.5, 1.0, ' Elevator Experiment')"
      ]
     },
     "execution_count": 97,
     "metadata": {},
     "output_type": "execute_result"
    },
    {
     "data": {
      "image/png": "[encoded data removed]",
      "text/plain": [
       "<Figure size 720x504 with 1 Axes>"
      ]
     },
     "metadata": {
      "needs_background": "light"
     },
     "output_type": "display_data"
    }
   ],
   "source": [
    "fig, ax = plt.subplots(figsize=(10,7))\n",
    "ax.plot(X,Vel, lw=3)\n",
    "ax.set_xlabel('time(s)',fontsize=14)\n",
    "ax.set_ylabel('Velocity (m/s) ',fontsize=14)\n",
    "ax.set_title(' Elevator Experiment', fontsize=14)"
   ]
  },
  {
   "cell_type": "markdown",
   "id": "f0debb87-f2b5-448b-ad99-46239f994425",
   "metadata": {},
   "source": [
    "The velocity plot matches with the plot above given by phyphox.  "
   ]
  }
 ],
 "metadata": {
  "kernelspec": {
   "display_name": "Python 3 (ipykernel)",
   "language": "python",
   "name": "python3"
  },
  "language_info": {
   "codemirror_mode": {
    "name": "ipython",
    "version": 3
   },
   "file_extension": ".py",
   "mimetype": "text/x-python",
   "name": "python",
   "nbconvert_exporter": "python",
   "pygments_lexer": "ipython3",
   "version": "3.9.5"
  }
 },
 "nbformat": 4,
 "nbformat_minor": 5
}
