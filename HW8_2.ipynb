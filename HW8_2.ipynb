{
 "cells": [
  {
   "cell_type": "markdown",
   "metadata": {},
   "source": [
    "# Assignment 8\n",
    "\n",
    "#### Problem 2\n",
    "\n",
    "(This solution follows the notebook \"rootfinding.ipynb\")\n",
    "\n",
    "In this problem, we will compare the simple root-finding algorithm and the bisection root-finding algorithm. Both algorithms can be found in rootfinding.py. The simple root-finding algorithm just checks the x values step by step by step until the root is reached, so it is quite straightforward. The bisection root-finding algorithm is essentially a trial and error approach: it first tries a value of x in the middle of its range, if the function value returned is smaller than zero, then it knows the root must be in the larger half of the x range, so it will try another x value in the middle of the larger half, maybe this time the function value returned is bigger than zero, then it will do another bisection and search in the lower half, and so forth, it gradually closes in on the root by bisecting the x range.\n",
    "\n",
    "\n",
    "The functions we need to solve are:\n",
    "\n",
    "$y(x) = \\tan(x)$.\n",
    "\n",
    "and \n",
    "\n",
    "$y(x) = \\tanh(x)$.\n",
    "\n",
    "Plots are shown below. The root is at $x=0$ for both functions\n"
   ]
  },
  {
   "cell_type": "code",
   "execution_count": 1,
   "metadata": {},
   "outputs": [],
   "source": [
    "import math\n",
    "import numpy as np\n",
    "import matplotlib.pyplot as plt\n",
    "from rootfinding import *"
   ]
  },
  {
   "cell_type": "markdown",
   "metadata": {},
   "source": [
    "We draw the functions close to their roots. "
   ]
  },
  {
   "cell_type": "code",
   "execution_count": 2,
   "metadata": {},
   "outputs": [],
   "source": [
    "# I chose this range because at pi/2, the tangent function will have a discountinuity\n",
    "# The function will firt blow to positive infinity then jump to negative infinity\n",
    "x1 = -np.pi/2\n",
    "x2 = np.pi/2\n"
   ]
  },
  {
   "cell_type": "code",
   "execution_count": 3,
   "metadata": {
    "scrolled": false
   },
   "outputs": [],
   "source": [
    "def f(x) :\n",
    "    return np.tan(x)"
   ]
  },
  {
   "cell_type": "code",
   "execution_count": 9,
   "metadata": {
    "scrolled": true
   },
   "outputs": [
    {
     "data": {
      "image/png": "[encoded data removed]",
      "text/plain": [
       "<Figure size 432x288 with 1 Axes>"
      ]
     },
     "metadata": {
      "needs_background": "light"
     },
     "output_type": "display_data"
    }
   ],
   "source": [
    "xvals = np.linspace(x1, x2, 1000)\n",
    "yvals = f(xvals)\n",
    "zero = xvals*0\n",
    "plt.plot(xvals, yvals)\n",
    "plt.plot(xvals, zero)\n",
    "plt.xlabel(\"x\")\n",
    "plt.ylabel(\"tan(x)\")\n",
    "plt.ylim([-3, 3])\n",
    "plt.show()"
   ]
  },
  {
   "cell_type": "markdown",
   "metadata": {},
   "source": [
    "Now let's find the root using the simple algorithm."
   ]
  },
  {
   "cell_type": "code",
   "execution_count": 5,
   "metadata": {
    "scrolled": true
   },
   "outputs": [
    {
     "name": "stdout",
     "output_type": "stream",
     "text": [
      " Algorithms for root of tan(x)\n",
      " ------------------------------------------------\n",
      " 1. Simple search\n",
      "\n",
      " ROOT FINDING using Simple Search with Step Halving\n",
      " Requested accuracy = 1e-05\n",
      " Step     Guess For Root          Step Size           Function Value\n",
      " ----  --------------------  --------------------  --------------------\n",
      "    0  -0.7853981633974483   0.01                  -0.9999999999999999 \n",
      "    1  -0.7753981633974483   0.01                  -0.9801973662453539 \n",
      "    2  -0.7653981633974483   0.01                  -0.9607791866850661 \n",
      "    3  -0.7553981633974483   0.01                  -0.9417306001272806 \n",
      "    4  -0.7453981633974482   0.01                  -0.9230374508924628 \n",
      "    5  -0.7353981633974482   0.01                  -0.9046862463150047 \n",
      "    6  -0.7253981633974482   0.01                  -0.8866641172535611 \n",
      "    7  -0.7153981633974482   0.01                  -0.8689587813636879 \n",
      "    8  -0.7053981633974482   0.01                  -0.8515585089091238 \n",
      "    9  -0.6953981633974482   0.01                  -0.8344520909084876 \n",
      "   10  -0.6853981633974482   0.01                  -0.81762880943252   \n",
      "   11  -0.6753981633974482   0.01                  -0.8010784098835056 \n",
      "   12  -0.6653981633974482   0.01                  -0.784791075103381  \n",
      "   13  -0.6553981633974482   0.01                  -0.7687574011704379 \n",
      "   14  -0.6453981633974482   0.01                  -0.7529683747566344 \n",
      "   15  -0.6353981633974481   0.01                  -0.7374153519284621 \n",
      "   16  -0.6253981633974481   0.01                  -0.7220900382842144 \n",
      "   17  -0.6153981633974481   0.01                  -0.7069844703294603 \n",
      "   18  -0.6053981633974481   0.01                  -0.6920909980006601 \n",
      "   19  -0.5953981633974481   0.01                  -0.6774022682542312 \n",
      "   20  -0.5853981633974481   0.01                  -0.6629112096450767 \n",
      "   21  -0.5753981633974481   0.01                  -0.6486110178246852 \n",
      "   22  -0.5653981633974481   0.01                  -0.6344951418944608 \n",
      "   23  -0.5553981633974481   0.01                  -0.6205572715549962 \n",
      "   24  -0.5453981633974481   0.01                  -0.6067913249966204 \n",
      "   25  -0.5353981633974481   0.01                  -0.5931914374807583 \n",
      "   26  -0.525398163397448    0.01                  -0.5797519505654923 \n",
      "   27  -0.515398163397448    0.01                  -0.5664674019322326 \n",
      "   28  -0.505398163397448    0.01                  -0.553332515773626  \n",
      "   29  -0.495398163397448    0.01                  -0.540342193705785  \n",
      "   30  -0.485398163397448    0.01                  -0.527491506170624  \n",
      "   31  -0.475398163397448    0.01                  -0.5147756842965729 \n",
      "   32  -0.465398163397448    0.01                  -0.5021901121882192 \n",
      "   33  -0.455398163397448    0.01                  -0.48973031961752433\n",
      "   34  -0.445398163397448    0.01                  -0.4773919750911891 \n",
      "   35  -0.43539816339744797  0.01                  -0.465170879270514  \n",
      "   36  -0.42539816339744796  0.01                  -0.4530629587217368 \n",
      "   37  -0.41539816339744795  0.01                  -0.44106425997633264\n",
      "   38  -0.40539816339744794  0.01                  -0.42917094388215254\n",
      "   39  -0.39539816339744793  0.01                  -0.4173792802275559 \n",
      "   40  -0.3853981633974479   0.01                  -0.40568564262187534\n",
      "   41  -0.3753981633974479   0.01                  -0.3940865036166476 \n",
      "   42  -0.3653981633974479   0.01                  -0.3825784300530506 \n",
      "   43  -0.3553981633974479   0.01                  -0.3711580786219248 \n",
      "   44  -0.3453981633974479   0.01                  -0.3598221916236202 \n",
      "   45  -0.3353981633974479   0.01                  -0.3485675929157099 \n",
      "   46  -0.32539816339744787  0.01                  -0.3373911840373548 \n",
      "   47  -0.31539816339744786  0.01                  -0.32628994049978954\n",
      "   48  -0.30539816339744785  0.01                  -0.31526090823303704\n",
      "   49  -0.29539816339744784  0.01                  -0.30430120017954965\n",
      "   50  -0.28539816339744783  0.01                  -0.2934079930260229 \n",
      "   51  -0.2753981633974478   0.01                  -0.2825785240651355 \n",
      "   52  -0.2653981633974478   0.01                  -0.271810088179442  \n",
      "   53  -0.2553981633974478   0.01                  -0.26110003494008016\n",
      "   54  -0.2453981633974478   0.01                  -0.25044576581336364\n",
      "   55  -0.2353981633974478   0.01                  -0.23984473146870652\n",
      "   56  -0.22539816339744778  0.01                  -0.22929442918167559\n",
      "   57  -0.21539816339744777  0.01                  -0.2187924003262922 \n",
      "   58  -0.20539816339744776  0.01                  -0.20833622795100615\n",
      "   59  -0.19539816339744775  0.01                  -0.19792353443304314\n",
      "   60  -0.18539816339744775  0.01                  -0.18755197920608693\n",
      "   61  -0.17539816339744774  0.01                  -0.1772192565564964 \n",
      "   62  -0.16539816339744773  0.01                  -0.16692309348348003\n",
      "   63  -0.15539816339744772  0.01                  -0.15666124761885558\n",
      "   64  -0.1453981633974477   0.01                  -0.14643150520221151\n",
      "   65  -0.1353981633974477   0.01                  -0.1362316791074624 \n",
      "   66  -0.1253981633974477   0.01                  -0.12605960691694967\n",
      "   67  -0.1153981633974477   0.01                  -0.11591314903938818\n",
      "   68  -0.1053981633974477   0.01                  -0.10579018686809279\n",
      "   69  -0.09539816339744771  0.01                  -0.09568862097604285\n",
      "   70  -0.08539816339744771  0.01                  -0.08560636934445458\n",
      "   71  -0.07539816339744772  0.01                  -0.07554136562163191\n",
      "   72  -0.06539816339744772  0.01                  -0.0654915574089579 \n",
      "   73  -0.05539816339744772  0.01                  -0.055454904570969736\n",
      "   74  -0.04539816339744772  0.01                  -0.045429377566531634\n",
      "   75  -0.03539816339744772  0.01                  -0.0354129557981831 \n",
      "   76  -0.025398163397447715  0.01                  -0.025403625976793104\n",
      "   77  -0.015398163397447715  0.01                  -0.015399380498696016\n",
      "   78  -0.005398163397447715  0.01                  -0.005398215832521784\n",
      "   79  -0.005398163397447715  0.005                 0.004601869087038816\n",
      "   80  -0.0003981633974477145  0.005                 -0.0003981634184885399\n",
      "   81  -0.0003981633974477145  0.0025                0.004601869087038816\n",
      "   82  -0.0003981633974477145  0.00125               0.002101839697664258\n",
      "   83  -0.0003981633974477145  0.000625              0.0008518368085904932\n",
      "   84  -0.0003981633974477145  0.0003125             0.00022683660644289962\n",
      "   85  -8.566339744771448e-05  0.0003125             -8.566339765725337e-05\n",
      "   86  -8.566339744771448e-05  0.00015625            0.00022683660644289962\n",
      "   87  -8.566339744771448e-05  7.8125e-05            7.058660266951736e-05\n",
      "   88  -7.538397447714478e-06  7.8125e-05            -7.538397447857274e-06\n",
      "   89  -7.538397447714478e-06  3.90625e-05           7.058660266951736e-05\n",
      "   90  -7.538397447714478e-06  1.953125e-05          3.1524102562728084e-05\n",
      "   91  -7.538397447714478e-06  9.765625e-06          1.1992852552860494e-05\n",
      " 2. Bisection search\n",
      "\n",
      " ROOT FINDING using Bisection Search\n",
      " Requested accuracy = 1e-05\n",
      " Step     Guess For Root          Step Size           Function Value\n",
      " ----  --------------------  --------------------  --------------------\n",
      "    0  0.0                   3.141592653589793     0.0                 \n",
      "    1  0.0                   0.0                   0.0                 \n"
     ]
    }
   ],
   "source": [
    "print(\" Algorithms for root of tan(x)\")\n",
    "print(\" ------------------------------------------------\")\n",
    "\n",
    "print(\" 1. Simple search\")\n",
    "xmid = x1 * 0.5\n",
    "dx = 0.01\n",
    "acc = 1e-5\n",
    "label1 = 'simple'\n",
    "# The inputs are (function, initial trial, step size, accuracy, maximum steps, output true or false)\n",
    "answer1, iterations1 = root_simple(f, xmid, dx, acc, 1000, True)\n",
    "\n",
    "print(\" 2. Bisection search\")\n",
    "acc = 1e-5\n",
    "label2 = 'bisection'\n",
    "# The inputs are (function, lower limit, upper limit, accuracy, maximum steps, output true or false)\n",
    "answer2, iterations2 = root_bisection(f, x1, x2, acc, 1000, True)\n"
   ]
  },
  {
   "cell_type": "markdown",
   "metadata": {},
   "source": [
    "Here I purposely misled the simple algorithm a bit, by letting it start at $-\\pi/4$. It therefore has to go all the way from there to 0. It took 91 steps. The bisection algorithm, on the other hand, only took 1 step! Because it's initial trial is always right in the middle of the x range, which is 0 in this case, and incidentally that is also the root. \n",
    "\n",
    "if we change the range a little, let's see what happens to the bisection algorithm."
   ]
  },
  {
   "cell_type": "code",
   "execution_count": 7,
   "metadata": {
    "scrolled": true
   },
   "outputs": [
    {
     "name": "stdout",
     "output_type": "stream",
     "text": [
      " 3. Bisection search\n",
      "\n",
      " ROOT FINDING using Bisection Search\n",
      " Requested accuracy = 1e-05\n",
      " Step     Guess For Root          Step Size           Function Value\n",
      " ----  --------------------  --------------------  --------------------\n",
      "    0  -0.39269908169872414  2.356194490192345     -0.41421356237309503\n",
      "    1  0.19634954084936207   1.1780972450961724    0.198912367379658   \n",
      "    2  -0.09817477042468103  0.5890486225480862    -0.09849140335716425\n",
      "    3  0.04908738521234052   0.2945243112740431    0.049126849769467254\n",
      "    4  -0.02454369260617026  0.14726215563702155   -0.024548622108925444\n",
      "    5  0.01227184630308513   0.07363107781851078   0.012272462379566276\n",
      "    6  -0.006135923151542565  0.03681553890925539   -0.006136000157623402\n",
      "    7  0.0030679615757712823  0.018407769454627694  0.003067971201422665\n",
      "    8  -0.0015339807878856412  0.009203884727313847  -0.0015339819910886664\n",
      "    9  0.0007669903939428206  0.0046019423636569235  0.0007669905443430926\n",
      "   10  -0.0003834951969714103  0.0023009711818284618  -0.000383495215771441\n",
      "   11  0.00019174759848570515  0.0011504855909142309  0.00019174760083570888\n",
      "   12  -9.587379924285257e-05  0.0005752427954571154  -9.587379953660303e-05\n",
      "   13  4.7936899621426287e-05  0.0002876213977285577  4.79368996581451e-05\n",
      "   14  -2.3968449810713143e-05  0.00014381069886427886  -2.3968449815302995e-05\n",
      "   15  1.1984224905356572e-05  7.190534943213943e-05  1.1984224905930303e-05\n",
      "   16  -5.992112452678286e-06  3.5952674716069715e-05  -5.992112452750002e-06\n",
      "   17  2.996056226339143e-06  1.7976337358034857e-05  2.9960562263481075e-06\n",
      "   18  -1.4980281131695715e-06  8.988168679017429e-06  -1.498028113170692e-06\n"
     ]
    }
   ],
   "source": [
    "print(\" 3. Bisection search\")\n",
    "acc = 1e-5\n",
    "label3 = 'bisection'\n",
    "# The inputs are (function, lower limit, upper limit, accuracy, maximum steps, output true or false)\n",
    "answer3, iterations2 = root_bisection(f, x1, np.pi/4, acc, 1000, True)"
   ]
  },
  {
   "cell_type": "markdown",
   "metadata": {},
   "source": [
    "Here, the x range is [-pi/2, pi/4], so it had to go back and forth 18 times to get close to the root which is 0. Of course, the computer would not know the root is exactly 0, it just gives us a really small number close to 0, and says \"hey I reached the level of accuracy you required of me!\". \n",
    "\n",
    "The bisection method is more accurate than the simple method in this case. The efficiency really depends on the situation. If I had set the initial guess close to the root for the simple method, it could take fewer steps to reach it. But in generally, I would say that the bisection method is a more efficient method."
   ]
  },
  {
   "cell_type": "markdown",
   "metadata": {},
   "source": [
    "---\n",
    "\n",
    "Next we try to find the root to:\n",
    "\n",
    "$y(x) = \\tanh(x)$.\n",
    "\n",
    "First we plot it."
   ]
  },
  {
   "cell_type": "code",
   "execution_count": 8,
   "metadata": {},
   "outputs": [],
   "source": [
    "def f2(x) :\n",
    "    return np.tanh(x)"
   ]
  },
  {
   "cell_type": "code",
   "execution_count": 16,
   "metadata": {},
   "outputs": [],
   "source": [
    "# Here I defined a new range for x, to make our graph look nicer\n",
    "x1 = -10\n",
    "x2 = 10"
   ]
  },
  {
   "cell_type": "code",
   "execution_count": 17,
   "metadata": {},
   "outputs": [
    {
     "data": {
      "image/png": "[encoded data removed]",
      "text/plain": [
       "<Figure size 432x288 with 1 Axes>"
      ]
     },
     "metadata": {
      "needs_background": "light"
     },
     "output_type": "display_data"
    }
   ],
   "source": [
    "xvals = np.linspace(x1, x2, 1000)\n",
    "yvals = f2(xvals)\n",
    "zero = xvals*0\n",
    "plt.plot(xvals, yvals)\n",
    "plt.plot(xvals, zero)\n",
    "plt.xlabel(\"x\")\n",
    "plt.ylabel(\"tanh(x)\")\n",
    "\n",
    "# The range for tanh(x) is from -1 to +1\n",
    "# So we set up like this to make our graph look nicer\n",
    "plt.ylim([-1.1, 1.1])\n",
    "plt.show()"
   ]
  },
  {
   "cell_type": "markdown",
   "metadata": {},
   "source": [
    "Next we try to find the root using the simple method and the bisection method."
   ]
  },
  {
   "cell_type": "code",
   "execution_count": 23,
   "metadata": {},
   "outputs": [
    {
     "name": "stdout",
     "output_type": "stream",
     "text": [
      " Algorithms for root of tanh(x)\n",
      " ------------------------------------------------\n",
      " 1. Simple search\n",
      "\n",
      " ROOT FINDING using Simple Search with Step Halving\n",
      " Requested accuracy = 1e-05\n",
      " Step     Guess For Root          Step Size           Function Value\n",
      " ----  --------------------  --------------------  --------------------\n",
      "    0  -0.1                  0.01                  -0.09966799462495582\n",
      "    1  -0.09000000000000001  0.01                  -0.08975778474716012\n",
      "    2  -0.08000000000000002  0.01                  -0.07982976911113138\n",
      "    3  -0.07000000000000002  0.01                  -0.06988589031642901\n",
      "    4  -0.06000000000000002  0.01                  -0.059928103529143524\n",
      "    5  -0.05000000000000002  0.01                  -0.04995837495787999\n",
      "    6  -0.040000000000000015  0.01                  -0.03997868031116359\n",
      "    7  -0.030000000000000013  0.01                  -0.02999100323882016\n",
      "    8  -0.02000000000000001  0.01                  -0.01999733375993094\n",
      "    9  -0.01000000000000001  0.01                  -0.00999966667999947\n",
      "   10  -1.0408340855860843e-17  0.01                  -1.0408340855860843e-17\n",
      "   11  -1.0408340855860843e-17  0.005                 0.00999966667999945 \n",
      "   12  -1.0408340855860843e-17  0.0025                0.004999958333749986\n",
      "   13  -1.0408340855860843e-17  0.00125               0.0024999947916796773\n",
      "   14  -1.0408340855860843e-17  0.000625              0.0012499993489587299\n",
      "   15  -1.0408340855860843e-17  0.0003125             0.000624999918619794\n",
      "   16  -1.0408340855860843e-17  0.00015625            0.000312499989827464\n",
      "   17  -1.0408340855860843e-17  7.8125e-05            0.00015624999872842384\n",
      "   18  -1.0408340855860843e-17  3.90625e-05           7.812499984104387e-05\n",
      "   19  -1.0408340855860843e-17  1.953125e-05          3.906249998012138e-05\n",
      "   20  -1.0408340855860843e-17  9.765625e-06          1.9531249997506064e-05\n",
      " 2. Bisection search\n",
      "\n",
      " ROOT FINDING using Bisection Search\n",
      " Requested accuracy = 1e-05\n",
      " Step     Guess For Root          Step Size           Function Value\n",
      " ----  --------------------  --------------------  --------------------\n",
      "    0  -2.5                  15                    -0.9866142981514303 \n",
      "    1  1.25                  7.5                   0.8482836399575129  \n",
      "    2  -0.625                3.75                  -0.5545997223493823 \n",
      "    3  0.3125                1.875                 0.3027097293321085  \n",
      "    4  -0.15625              0.9375                -0.1549907303716235 \n",
      "    5  0.078125              0.46875               0.07796644137536818 \n",
      "    6  -0.0390625            0.234375              -0.039042643904185916\n",
      "    7  0.01953125            0.1171875             0.019528766852031983\n",
      "    8  -0.009765625          0.05859375            -0.009765314570983716\n",
      "    9  0.0048828125          0.029296875           0.004882773695262795\n",
      "   10  -0.00244140625        0.0146484375          -0.0024414013993731554\n",
      "   11  0.001220703125        0.00732421875         0.0012207025186705602\n",
      "   12  -0.0006103515625      0.003662109375        -0.0006103514867087862\n",
      "   13  0.00030517578125      0.0018310546875       0.00030517577177609727\n",
      "   14  -0.000152587890625    0.00091552734375      -0.00015258788944076213\n",
      "   15  7.62939453125e-05     0.000457763671875     7.629394516447027e-05\n",
      "   16  -3.814697265625e-05   0.0002288818359375    -3.814697263774628e-05\n",
      "   17  1.9073486328125e-05   0.00011444091796875   1.9073486325812034e-05\n",
      "   18  -9.5367431640625e-06  5.7220458984375e-05   -9.536743163773379e-06\n",
      "   19  4.76837158203125e-06  2.86102294921875e-05  4.76837158199511e-06\n",
      "   20  -2.384185791015625e-06  1.430511474609375e-05  -2.3841857910111073e-06\n",
      "   21  1.1920928955078125e-06  7.152557373046875e-06  1.1920928955072477e-06\n"
     ]
    }
   ],
   "source": [
    "print(\" Algorithms for root of tanh(x)\")\n",
    "print(\" ------------------------------------------------\")\n",
    "\n",
    "print(\" 1. Simple search\")\n",
    "xmid = -0.1\n",
    "dx = 0.01\n",
    "acc = 1e-5\n",
    "label4 = 'simple'\n",
    "# The inputs are (function, initial trial, step size, accuracy, maximum steps, output true or false)\n",
    "answer4, iterations1 = root_simple(f2, xmid, dx, acc, 1000, True)\n",
    "\n",
    "print(\" 2. Bisection search\")\n",
    "acc = 1e-5\n",
    "label5 = 'bisection'\n",
    "# The inputs are (function, lower limit, upper limit, accuracy, maximum steps, output true or false)\n",
    "answer5, iterations2 = root_bisection(f2, x1, 5, acc, 1000, True)"
   ]
  },
  {
   "cell_type": "markdown",
   "metadata": {},
   "source": [
    "Here just for fun, I gave the simple method an initial guess really close to the root, and it happily finishes its job in 20 steps. And for the bisection method, again I did not put the root right in the middle of the range, so it had to take 21 steps to close in on the root. The simple search is also more accurate in this case! So I guess the simple search is good for situations where we roughly know where the root is."
   ]
  },
  {
   "cell_type": "code",
   "execution_count": null,
   "metadata": {},
   "outputs": [],
   "source": []
  }
 ],
 "metadata": {
  "kernelspec": {
   "display_name": "Python 3 (ipykernel)",
   "language": "python",
   "name": "python3"
  },
  "language_info": {
   "codemirror_mode": {
    "name": "ipython",
    "version": 3
   },
   "file_extension": ".py",
   "mimetype": "text/x-python",
   "name": "python",
   "nbconvert_exporter": "python",
   "pygments_lexer": "ipython3",
   "version": "3.9.7"
  }
 },
 "nbformat": 4,
 "nbformat_minor": 4
}
