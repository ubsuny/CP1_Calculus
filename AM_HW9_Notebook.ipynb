{
 "cells": [
  {
   "cell_type": "markdown",
   "id": "659e09e9",
   "metadata": {},
   "source": [
    "# HW 9 Problem 1 and Problem 2\n",
    "## Austin Marga"
   ]
  },
  {
   "cell_type": "markdown",
   "id": "5418c941",
   "metadata": {},
   "source": [
    "# Problem 1"
   ]
  },
  {
   "cell_type": "markdown",
   "id": "3b672ecd",
   "metadata": {},
   "source": [
    "I wanted to do something kind of neat for my experiment, so I recorded my acceleration in *PhyPhox* as I went from my car parked in the UB Fronczak Lot to my apartment on Sweet Home Road. I live about 1.1 miles away, so I wanted to see how far I actually travelled with respect to my net displacement. For instance, how efficient am I being compared to if I was emperor of the world and I could pave a direct path from my parking space in the Fronczak Lot to my apartment complex. If my total distance travelled is double the actual displacement, then I am 50% efficient."
   ]
  },
  {
   "cell_type": "code",
   "execution_count": 1,
   "id": "81018c7c",
   "metadata": {},
   "outputs": [
    {
     "name": "stdout",
     "output_type": "stream",
     "text": [
      "Populating the interactive namespace from numpy and matplotlib\n"
     ]
    }
   ],
   "source": [
    "import pandas as pd\n",
    "import scipy.integrate as integrate\n",
    "%pylab inline"
   ]
  },
  {
   "cell_type": "markdown",
   "id": "1cf875c2",
   "metadata": {},
   "source": [
    "The name of my data file is *UBPath.csv*. It's a farily large csv file."
   ]
  },
  {
   "cell_type": "code",
   "execution_count": 2,
   "id": "2aff6c09",
   "metadata": {},
   "outputs": [],
   "source": [
    "filename  = \"UBPath.csv\"\n",
    "data = pd.read_csv(filename)"
   ]
  },
  {
   "cell_type": "markdown",
   "id": "9120f61e",
   "metadata": {},
   "source": [
    "Let's just plot the acceleration vs. time graph for fun."
   ]
  },
  {
   "cell_type": "code",
   "execution_count": 3,
   "id": "07af5d64",
   "metadata": {
    "scrolled": true
   },
   "outputs": [
    {
     "data": {
      "image/png": "[encoded data removed]",
      "text/plain": [
       "<Figure size 432x288 with 1 Axes>"
      ]
     },
     "metadata": {
      "needs_background": "light"
     },
     "output_type": "display_data"
    }
   ],
   "source": [
    "data\n",
    "plt.plot(data[\"Time (s)\"], data[\"Linear Acceleration x (m/s^2)\"])\n",
    "plt.xlabel(\"Time (s)\")\n",
    "plt.ylabel(\"Linear Acceleration in x (m/s^2)\")\n",
    "plt.title(\"Acceleration in X vs. Time\")\n",
    "plt.show()"
   ]
  },
  {
   "cell_type": "markdown",
   "id": "6da6d621",
   "metadata": {},
   "source": [
    "Next, we need to do a few things.\n",
    "- First, take each row from the `DataFrame` and send it to `numpy`.\n",
    "- Second, find the average velocity of my trip by integrating the acceleration vs. time data. $v_{avg} = \\int_{t_i}^{t_f} a(t)dt$\n",
    "- Third, calculate the distances travelled with $d = v_{avg}t$\n",
    "- Fourth, put in my print statements and calculate my efficiency.\n",
    "- Fifth, profit."
   ]
  },
  {
   "cell_type": "code",
   "execution_count": 4,
   "id": "5979091b",
   "metadata": {},
   "outputs": [
    {
     "name": "stdout",
     "output_type": "stream",
     "text": [
      "You travelled to total distance of 2.46 miles.\n",
      "You estimated your total travel to be 1.1 miles, which means your driving was 44.69% straight to your destination.\n"
     ]
    }
   ],
   "source": [
    "est = 1.1\n",
    "a_x = data[\"Linear Acceleration x (m/s^2)\"].to_numpy()\n",
    "a_y = data[\"Linear Acceleration y (m/s^2)\"].to_numpy()\n",
    "a_z = data[\"Linear Acceleration z (m/s^2)\"].to_numpy()\n",
    "t = data[\"Time (s)\"]\n",
    "t = t.to_numpy()\n",
    "type(t)\n",
    "v_x = integrate.simps(a_x,t)\n",
    "v_y = integrate.simps(a_y,t)\n",
    "v_z = integrate.simps(a_z,t)\n",
    "d_x = v_x*(t[-1]-t[0])\n",
    "d_y = v_y*(t[-1]-t[0])\n",
    "d_z = v_z*(t[-1]-t[0])\n",
    "d_tot = sqrt(d_x**2 + d_y**2 + d_z**2)\n",
    "d_mi = d_tot / 1609\n",
    "eff = est*100 / d_mi\n",
    "print(\"You travelled to total distance of {} miles.\".format(round(d_mi,2)))\n",
    "print(\"You estimated your total travel to be {} miles, which means your driving was {}% straight to your destination.\"\n",
    "      .format(est,round(eff,2)))"
   ]
  },
  {
   "cell_type": "markdown",
   "id": "71d6c5ec",
   "metadata": {},
   "source": [
    "It looks rather consolidated and simple in this view. Now, lets push this all into a method and test it here."
   ]
  },
  {
   "cell_type": "code",
   "execution_count": 5,
   "id": "ca747b2b",
   "metadata": {},
   "outputs": [],
   "source": [
    "def total_distance(filename,est):\n",
    "    \"\"\"\n",
    "    Calculates the total distance and efficiency of a trip given some `PhyPhox` csv file.\n",
    "    \n",
    "    Inputs:\n",
    "    filename - Name of the csv file. Include the .csv extension. (str)\n",
    "    est - The estimated net displacement from starting to ending location. (float)\n",
    "    \n",
    "    Returns:\n",
    "    Returns the percentage efficiency of your trip given to the hundredths place. (float)\n",
    "    \n",
    "    \"\"\"\n",
    "    data = pd.read_csv(filename)\n",
    "    a_x = data[\"Linear Acceleration x (m/s^2)\"].to_numpy()\n",
    "    a_y = data[\"Linear Acceleration y (m/s^2)\"].to_numpy()\n",
    "    a_z = data[\"Linear Acceleration z (m/s^2)\"].to_numpy()\n",
    "    t = data[\"Time (s)\"]\n",
    "    t = t.to_numpy()\n",
    "    v_x = integrate.simps(a_x,t)\n",
    "    v_y = integrate.simps(a_y,t)\n",
    "    v_z = integrate.simps(a_z,t)\n",
    "    d_x = v_x*(t[-1]-t[0])\n",
    "    d_y = v_y*(t[-1]-t[0])\n",
    "    d_z = v_z*(t[-1]-t[0])\n",
    "    d_tot = sqrt(d_x**2 + d_y**2 + d_z**2)\n",
    "    d_mi = d_tot / 1609\n",
    "    eff = est*100 / d_mi\n",
    "    print(\"You travelled to total distance of {} miles.\".format(round(d_mi,2)))\n",
    "    print(\"You estimated your total travel to be {} miles, which means your driving was {}% straight to your destination.\"\n",
    "          .format(est,round(eff,2)))\n",
    "    return(round(eff,2))"
   ]
  },
  {
   "cell_type": "code",
   "execution_count": 6,
   "id": "fbd39296",
   "metadata": {},
   "outputs": [
    {
     "name": "stdout",
     "output_type": "stream",
     "text": [
      "You travelled to total distance of 2.46 miles.\n",
      "You estimated your total travel to be 1.1 miles, which means your driving was 44.69% straight to your destination.\n"
     ]
    },
    {
     "data": {
      "text/plain": [
       "44.69"
      ]
     },
     "execution_count": 6,
     "metadata": {},
     "output_type": "execute_result"
    }
   ],
   "source": [
    "total_distance(\"UBPath.csv\",1.1)"
   ]
  },
  {
   "cell_type": "markdown",
   "id": "4621754c",
   "metadata": {},
   "source": [
    "# Problem 2"
   ]
  },
  {
   "cell_type": "markdown",
   "id": "2634bb7f",
   "metadata": {},
   "source": [
    "For the sake of simplicity, I am going to take the same data, but do a different \"experiment\" on the data. Again, one day, I hope to be ruler over the world. When I am ruler of the world, I would like to have the easiest drive from my apartment complex to my parking space in UB's Fronczak Lot (even though I likely won't be here when I rule the world, but that is besides the point). I qualify the easiest drive as **a drive that has minimizes acceleration**. Ideally, as soon as I leave to go on my route, I will start at, and continue at, 45mph until I reach my destination. So, let's determine how *cool* my current commute is with respect to my future commute. Imagine I hit no red lights and all constant velocity durations occured with a nonzero velocity."
   ]
  },
  {
   "cell_type": "markdown",
   "id": "44a01cd5",
   "metadata": {},
   "source": [
    "First, for completeness, let's call the `csv` file."
   ]
  },
  {
   "cell_type": "code",
   "execution_count": 7,
   "id": "417c5224",
   "metadata": {},
   "outputs": [],
   "source": [
    "filename  = \"UBPath.csv\"\n",
    "data = pd.read_csv(filename)"
   ]
  },
  {
   "cell_type": "markdown",
   "id": "76873c35",
   "metadata": {},
   "source": [
    "To be truely having a *cool* ride, I want to not accelerate in any direction (future ruler me will have an underground tunnel for my commute that lets my z displacement be 0 on my trip). My threshold for having a *cool* ride is my acceleration is less than $0.10 \\frac{m}{s^2}$. This equates to my speed only changing about $1$ mph every $5$ seconds, which is quite a fair bar."
   ]
  },
  {
   "cell_type": "markdown",
   "id": "3e107d91",
   "metadata": {},
   "source": [
    "Let's make all of our lists to loop through. I'm sure `pandas` to `numpy` to `python` lists is extremely painful and is not pythonic, but, it worked. :)"
   ]
  },
  {
   "cell_type": "code",
   "execution_count": 8,
   "id": "edb89cda",
   "metadata": {},
   "outputs": [],
   "source": [
    "a_x = data[\"Linear Acceleration x (m/s^2)\"].to_numpy()\n",
    "a_y = data[\"Linear Acceleration y (m/s^2)\"].to_numpy()\n",
    "a_z = data[\"Linear Acceleration z (m/s^2)\"].to_numpy()\n",
    "t = data[\"Time (s)\"]\n",
    "a_x_2 = a_x.tolist()\n",
    "a_y_2 = a_y.tolist()\n",
    "a_z_2 = a_z.tolist()\n",
    "t_2 = t.to_numpy()"
   ]
  },
  {
   "cell_type": "markdown",
   "id": "3bd614ce",
   "metadata": {},
   "source": [
    "Now, we loop through each entry for each list and see if the acceleration with within our bounds."
   ]
  },
  {
   "cell_type": "code",
   "execution_count": 9,
   "id": "703d0829",
   "metadata": {},
   "outputs": [],
   "source": [
    "def loop():\n",
    "    \"\"\"\n",
    "    Test function to coint non-accelerating points in time.\n",
    "    \n",
    "    Inputs: None\n",
    "    \n",
    "    Returns: Returns the total amount of points that there was minimal acceleration. (int)\n",
    "    \n",
    "    \"\"\"\n",
    "    points = 0\n",
    "    for entry in range(0,len(a_x_2)):\n",
    "        if (-0.10 < a_x_2[entry] < 0.10) and (-0.10 < a_y_2[entry] < 0.10) and (-0.10 < a_z_2[entry] < 0.10) :\n",
    "            points = points + 1\n",
    "    return points"
   ]
  },
  {
   "cell_type": "code",
   "execution_count": 10,
   "id": "c0c4ea12",
   "metadata": {},
   "outputs": [
    {
     "name": "stdout",
     "output_type": "stream",
     "text": [
      "Your total coast time was 0.57 minutes. You were coasting approximately 9.71% of the time.\n"
     ]
    }
   ],
   "source": [
    "points = loop()\n",
    "time_per_point = (t_2[-1] - t_2[0]) / len(t)\n",
    "coast_time = points * time_per_point / 60\n",
    "coast_eff = coast_time / (t_2[-1] - t_2[0]) * 6000\n",
    "coast_time = round(coast_time,2)\n",
    "coast_eff = round(coast_eff,2)\n",
    "print(\"Your total coast time was {} minutes. You were coasting approximately {}% of the time.\".format(coast_time,coast_eff))"
   ]
  },
  {
   "cell_type": "markdown",
   "id": "c1abacf8",
   "metadata": {},
   "source": [
    "Now, let's build our method."
   ]
  },
  {
   "cell_type": "code",
   "execution_count": 11,
   "id": "b6fa90f9",
   "metadata": {},
   "outputs": [],
   "source": [
    "def coast_time(filename):\n",
    "    \"\"\"\n",
    "    Calculates the length of minimal acceleration or coasting and the percentage of the trip that involved coasting.\n",
    "    \n",
    "    Inputs: \n",
    "    filename - Name of the csv file. Include the .csv extension. (str)\n",
    "    \n",
    "    Returns:\n",
    "    Returns the percentage that you coasted on your trip to the hundredths place. (float)\n",
    "    \n",
    "    \"\"\"\n",
    "    data = pd.read_csv(filename)\n",
    "    a_x = data[\"Linear Acceleration x (m/s^2)\"].to_numpy()\n",
    "    a_y = data[\"Linear Acceleration y (m/s^2)\"].to_numpy()\n",
    "    a_z = data[\"Linear Acceleration z (m/s^2)\"].to_numpy()\n",
    "    t = data[\"Time (s)\"]\n",
    "    a_x_2 = a_x.tolist()\n",
    "    a_y_2 = a_y.tolist()\n",
    "    a_z_2 = a_z.tolist()\n",
    "    t_2 = t.to_numpy()\n",
    "    points = 0\n",
    "    for entry in range(0,len(a_x_2)):\n",
    "        if (-0.10 < a_x_2[entry] < 0.10) and (-0.10 < a_y_2[entry] < 0.10) and (-0.10 < a_z_2[entry] < 0.10) :\n",
    "            points = points + 1\n",
    "    time_per_point = (t_2[-1] - t_2[0]) / len(t)\n",
    "    coast_time = points * time_per_point / 60\n",
    "    coast_eff = coast_time / (t_2[-1] - t_2[0]) * 6000\n",
    "    coast_time = round(coast_time,2)\n",
    "    coast_eff = round(coast_eff,2)\n",
    "    print(\"Your total coast time was {} minutes. You were coasting approximately {}% of the time.\".format(coast_time,coast_eff))\n",
    "    return round(coast_eff,2)"
   ]
  },
  {
   "cell_type": "code",
   "execution_count": 12,
   "id": "b30aec68",
   "metadata": {},
   "outputs": [
    {
     "name": "stdout",
     "output_type": "stream",
     "text": [
      "Your total coast time was 0.57 minutes. You were coasting approximately 9.71% of the time.\n"
     ]
    },
    {
     "data": {
      "text/plain": [
       "9.71"
      ]
     },
     "execution_count": 12,
     "metadata": {},
     "output_type": "execute_result"
    }
   ],
   "source": [
    "coast_time(\"UBPath.csv\")"
   ]
  },
  {
   "cell_type": "code",
   "execution_count": null,
   "id": "4f129cd2",
   "metadata": {},
   "outputs": [],
   "source": []
  }
 ],
 "metadata": {
  "kernelspec": {
   "display_name": "Python 3 (ipykernel)",
   "language": "python",
   "name": "python3"
  },
  "language_info": {
   "codemirror_mode": {
    "name": "ipython",
    "version": 3
   },
   "file_extension": ".py",
   "mimetype": "text/x-python",
   "name": "python",
   "nbconvert_exporter": "python",
   "pygments_lexer": "ipython3",
   "version": "3.9.7"
  }
 },
 "nbformat": 4,
 "nbformat_minor": 5
}
