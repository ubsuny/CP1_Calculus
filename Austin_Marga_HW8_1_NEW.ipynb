{
 "cells": [
  {
   "cell_type": "markdown",
   "id": "db5ae633",
   "metadata": {},
   "source": [
    "# HW 8 Problem 1\n",
    "## Austin Marga"
   ]
  },
  {
   "cell_type": "code",
   "execution_count": 1,
   "id": "57ce79ff",
   "metadata": {},
   "outputs": [
    {
     "name": "stdout",
     "output_type": "stream",
     "text": [
      "Populating the interactive namespace from numpy and matplotlib\n"
     ]
    }
   ],
   "source": [
    "from integrals import *\n",
    "from scipy import integrate\n",
    "%pylab inline"
   ]
  },
  {
   "cell_type": "markdown",
   "id": "e4e062ad",
   "metadata": {},
   "source": [
    "I could have been more pythonic by introducing some `if` statements to group the 6 functions into 2, but I had some problems with this for implementation."
   ]
  },
  {
   "cell_type": "markdown",
   "id": "fcaebdab",
   "metadata": {},
   "source": [
    "## $f(x) = e^x \\quad [0,10]$\n",
    "First, let's plot the function $f(x) = e^x$."
   ]
  },
  {
   "cell_type": "code",
   "execution_count": 2,
   "id": "2308dc4d",
   "metadata": {},
   "outputs": [
    {
     "data": {
      "image/png": "[encoded data removed]",
      "text/plain": [
       "<Figure size 432x288 with 1 Axes>"
      ]
     },
     "metadata": {
      "needs_background": "light"
     },
     "output_type": "display_data"
    }
   ],
   "source": [
    "a = 0\n",
    "b = 10\n",
    "x = np.linspace(a,b,1000)\n",
    "y = np.exp(x)\n",
    "plt.xlabel(\"x\")\n",
    "plt.ylabel(\"y\")\n",
    "plt.title(\"Plot of  exp(x)\")\n",
    "plt.plot(x,y)\n",
    "plt.show()"
   ]
  },
  {
   "cell_type": "markdown",
   "id": "21cd6c8b",
   "metadata": {},
   "source": [
    "In order to plot the antiderivative of some function, we can use the Fundamental Theorem of Calculus.\n",
    "$$\\int_a^b f(x)dx = F(b) - F(a)$$\n",
    "We can calculate the integral of some function numerically by approximating the area of the curve, we only need to know the value of the antiderivative at some point $a$. The antiderivative is a family of functions varying by some constant, so we can specify one by specifying one point (a,F(a))."
   ]
  },
  {
   "cell_type": "markdown",
   "id": "a91f1ccc",
   "metadata": {},
   "source": [
    "All other points can be calculated from this.\n",
    "\n",
    "$$F(b) = \\int_a^b f(x)dx + F(a)$$"
   ]
  },
  {
   "cell_type": "markdown",
   "id": "2a8474ce",
   "metadata": {},
   "source": [
    "For these examples, let $a$ be the left boundary of the point, and let $b$ be some point $x$ at which we want the antiderivative."
   ]
  },
  {
   "cell_type": "markdown",
   "id": "9a4b2774",
   "metadata": {},
   "source": [
    "$F(x) = \\int e^x dx = e^x + C$. If we drop the constant, the integral of $e^x$ is just $e^x$. Therefore, the integral should look the same as the original plot. "
   ]
  },
  {
   "cell_type": "markdown",
   "id": "dfcb2592",
   "metadata": {},
   "source": [
    "The real answer for $F = \\int_0^{10} e^x dx \\approx 22025.46579480672$. Let's see how close our integration methods get."
   ]
  },
  {
   "cell_type": "markdown",
   "id": "bad0fa39",
   "metadata": {},
   "source": [
    "In this example, $F(a) = F(0) = 1$, therefore, for any point after this, we can calculate the antiderivative via the following:\n",
    "\n",
    "$$F(x)  =\\int_0^xe^xdx + 1$$"
   ]
  },
  {
   "cell_type": "code",
   "execution_count": 3,
   "id": "fe6a1d6f",
   "metadata": {},
   "outputs": [
    {
     "name": "stdout",
     "output_type": "stream",
     "text": [
      "22025.66064832975\n"
     ]
    }
   ],
   "source": [
    "res = simpson(np.exp,0,10,50)\n",
    "print(res)"
   ]
  },
  {
   "cell_type": "code",
   "execution_count": 4,
   "id": "2e628212",
   "metadata": {},
   "outputs": [
    {
     "name": "stdout",
     "output_type": "stream",
     "text": [
      "<class 'numpy.ndarray'>\n"
     ]
    }
   ],
   "source": [
    "print(type(x))"
   ]
  },
  {
   "cell_type": "code",
   "execution_count": 5,
   "id": "9e156d9a",
   "metadata": {},
   "outputs": [],
   "source": [
    "def integrate_simp(f,a,b,n,C):\n",
    "    \"\"\"\n",
    "    Generates a list of x and y values of the antiderivative using the Simpson Rule.\n",
    "    \n",
    "    args:\n",
    "    f: some (lambda) function\n",
    "    a: left end point\n",
    "    b: right end point\n",
    "    n: number of partitions along the x-axis\n",
    "    C: The value of the antiderivative at the left end point to uniquely describe the curve.\n",
    "    \n",
    "    output:\n",
    "    returns a list of lists, with the first entry being the x values \n",
    "    and the second entry being the y values for the antiderivative plot\n",
    "    \n",
    "    \n",
    "    \"\"\"\n",
    "    y = []\n",
    "    x = []\n",
    "    step_size = (b-a) / n\n",
    "    m = 0\n",
    "    for step in arange(0,n):\n",
    "        step_left = a+m*step_size\n",
    "        step_right = a + (m+1)*step_size\n",
    "        val = simpson(f,a,step_right,200) + C\n",
    "        y.append(val)\n",
    "        x.append(step_right)\n",
    "        m = m+1\n",
    "    x = numpy.array(x)\n",
    "    y = numpy.array(y)\n",
    "    return [x,y]"
   ]
  },
  {
   "cell_type": "markdown",
   "id": "7a84e580",
   "metadata": {},
   "source": [
    "Here, in order to calculate accuracy, I use the `scipy.integrate` function. This has to be outside of the function because of the difference in syntax between `numpy` and `scipy` for $e^x$, being `np.exp` and `np.exp(x)` respectively."
   ]
  },
  {
   "cell_type": "code",
   "execution_count": 6,
   "id": "2647c40d",
   "metadata": {},
   "outputs": [
    {
     "name": "stdout",
     "output_type": "stream",
     "text": [
      "(22025.465794806725, 6.239389118119916e-10)\n"
     ]
    }
   ],
   "source": [
    "real = integrate.quad(lambda x: np.exp(x), 0, 10)\n",
    "print(real)"
   ]
  },
  {
   "cell_type": "code",
   "execution_count": 7,
   "id": "2bcd8bb2",
   "metadata": {},
   "outputs": [],
   "source": [
    "def integrate_simp_and_plot(f,a,b,n,name,C):\n",
    "    \"\"\"\n",
    "    Generates a list of x and y values of the antiderivative using the Simpson Rule and plots the antiderivative.\n",
    "    \n",
    "    args:\n",
    "    f: some (lambda) function\n",
    "    a: left end point\n",
    "    b: right end point\n",
    "    n: number of partitions along the x-axis\n",
    "    name: The name of the function as a string.\n",
    "    C: The value of the antiderivative at the left end point to uniquely describe the curve.\n",
    "    \n",
    "    output:\n",
    "    returns a numerical approximation for the integration.\n",
    "    \n",
    "    \n",
    "    \"\"\"\n",
    "    val = integrate_simp(f,a,b,n,C)\n",
    "    x = val[0]\n",
    "    y = val[1]\n",
    "    plt.xlabel(\"x\")\n",
    "    plt.ylabel(\"y\")\n",
    "    plt.title(\"Plot of Integral of \" + str(name))\n",
    "    plt.plot(x,y)\n",
    "    plt.show()\n",
    "    integral = simpson(f,a,b,n)\n",
    "    print(\"The integration of {} by the Simpson Rule with {} steps is {}\".format(str(f),n,integral))\n",
    "    return integral"
   ]
  },
  {
   "cell_type": "code",
   "execution_count": 8,
   "id": "8dbd68bd",
   "metadata": {},
   "outputs": [
    {
     "data": {
      "image/png": "[encoded data removed]",
      "text/plain": [
       "<Figure size 432x288 with 1 Axes>"
      ]
     },
     "metadata": {
      "needs_background": "light"
     },
     "output_type": "display_data"
    },
    {
     "name": "stdout",
     "output_type": "stream",
     "text": [
      "The integration of <ufunc 'exp'> by the Simpson Rule with 50 steps is 22025.66064832975\n"
     ]
    }
   ],
   "source": [
    "a = 0\n",
    "b = 10\n",
    "n = 50\n",
    "integral = integrate_simp_and_plot(np.exp,a,b,n,\"exp(x)\",1)"
   ]
  },
  {
   "cell_type": "code",
   "execution_count": 9,
   "id": "7c1639dd",
   "metadata": {
    "scrolled": true
   },
   "outputs": [
    {
     "name": "stdout",
     "output_type": "stream",
     "text": [
      "The real value of the integration is 22025.465794806725 with an error of 6.239389118119916e-10.\n",
      "The accuracy of the Simpson Rule with 50 steps is 99.99911532620995%.\n"
     ]
    }
   ],
   "source": [
    "real = integrate.quad(lambda x: np.exp(x), a, b)\n",
    "acc = 1 - np.abs((integral - real[0])) / real[0]\n",
    "perc = str(100*acc)+\"%\"\n",
    "print(\"The real value of the integration is {} with an error of {}.\".format(real[0],real[1]))\n",
    "print(\"The accuracy of the Simpson Rule with {} steps is {}.\".format(n,perc))"
   ]
  },
  {
   "cell_type": "markdown",
   "id": "42332eaf",
   "metadata": {},
   "source": [
    "Here, we define accuracy to be $$\\text{acc} = 1 - \\frac{|{\\text{theoretical} - \\text{experimental}|}}{\\text{theoretical}}$$"
   ]
  },
  {
   "cell_type": "code",
   "execution_count": 10,
   "id": "4442f88d",
   "metadata": {},
   "outputs": [
    {
     "data": {
      "image/png": "[encoded data removed]",
      "text/plain": [
       "<Figure size 432x288 with 1 Axes>"
      ]
     },
     "metadata": {
      "needs_background": "light"
     },
     "output_type": "display_data"
    },
    {
     "name": "stdout",
     "output_type": "stream",
     "text": [
      "The integration of <ufunc 'exp'> by the Simpson Rule with 10 steps is 22134.650007857348\n",
      "The real value of the integration is 22025.465794806725 with an error of 6.239389118119916e-10.\n",
      "The accuracy of the Simpson Rule with 10 steps is 99.50428193406758%.\n"
     ]
    }
   ],
   "source": [
    "a = 0\n",
    "b = 10\n",
    "n = 10\n",
    "integral = integrate_simp_and_plot(np.exp,a,b,n,\"exp(x)\",1)\n",
    "real = integrate.quad(lambda x: np.exp(x), a, b)\n",
    "acc = 1 - np.abs((integral - real[0])) / real[0]\n",
    "perc = str(100*acc)+\"%\"\n",
    "print(\"The real value of the integration is {} with an error of {}.\".format(real[0],real[1]))\n",
    "print(\"The accuracy of the Simpson Rule with {} steps is {}.\".format(n,perc))"
   ]
  },
  {
   "cell_type": "markdown",
   "id": "b2fb624b",
   "metadata": {},
   "source": [
    "We can see that with 10 steps, we can get an acccuracy of greater than 99%."
   ]
  },
  {
   "cell_type": "markdown",
   "id": "50d1ec09",
   "metadata": {},
   "source": [
    "Let's try now with the Trapezoid Rule."
   ]
  },
  {
   "cell_type": "code",
   "execution_count": 11,
   "id": "9c096a40",
   "metadata": {},
   "outputs": [],
   "source": [
    "def integrate_trap(f,a,b,n,C):\n",
    "    \"\"\"\n",
    "    Generates a list of x and y values of the antiderivative using the Trapezoidal Rule.\n",
    "    \n",
    "    args:\n",
    "    f: some (lambda) function\n",
    "    a: left end point\n",
    "    b: right end point\n",
    "    n: number of partitions along the x-axis\n",
    "    C: The value of the antiderivative at the left end point to uniquely describe the curve.\n",
    "    \n",
    "    output:\n",
    "    returns a list of lists, with the first entry being the x values \n",
    "    and the second entry being the y values for the antiderivative plot\n",
    "    \n",
    "    \n",
    "    \"\"\"\n",
    "    y = []\n",
    "    x = []\n",
    "    step_size = (b-a) / n\n",
    "    m = 0\n",
    "    for step in arange(0,n):\n",
    "        step_left = a+m*step_size\n",
    "        step_right = a + (m+1)*step_size\n",
    "        val = trapezoid(f,a,step_right,200) + C\n",
    "        y.append(val)\n",
    "        x.append(step_right)\n",
    "        m = m+1\n",
    "    x = numpy.array(x)\n",
    "    y = numpy.array(y)\n",
    "    return [x,y]"
   ]
  },
  {
   "cell_type": "code",
   "execution_count": 12,
   "id": "68f8e966",
   "metadata": {},
   "outputs": [],
   "source": [
    "def integrate_trap_and_plot(f,a,b,n,name,C):\n",
    "    \"\"\"\n",
    "    Generates a list of x and y values of the antiderivative using the Trapezoidal Rule and plots the antiderivative.\n",
    "    \n",
    "    args:\n",
    "    f: some (lambda) function\n",
    "    a: left end point\n",
    "    b: right end point\n",
    "    n: number of partitions along the x-axis\n",
    "    name: The name of the function as a string.\n",
    "    C: The value of the antiderivative at the left end point to uniquely describe the curve.\n",
    "    \n",
    "    output:\n",
    "    returns a numerical approximation for the integration.\n",
    "    \n",
    "    \n",
    "    \"\"\"\n",
    "    val = integrate_trap(f,a,b,n,C)\n",
    "    x = val[0]\n",
    "    y = val[1]\n",
    "    plt.xlabel(\"x\")\n",
    "    plt.ylabel(\"y\")\n",
    "    plt.title(\"Plot of Integral of \" + str(name))\n",
    "    plt.plot(x,y)\n",
    "    plt.show()\n",
    "    integral = trapezoid(f,a,b,n)\n",
    "    print(\"The integration of {} by the Trapezoidal Rule with {} steps is {}\".format(str(f),n,integral))\n",
    "    return integral"
   ]
  },
  {
   "cell_type": "code",
   "execution_count": 13,
   "id": "c89b6896",
   "metadata": {},
   "outputs": [
    {
     "data": {
      "image/png": "[encoded data removed]",
      "text/plain": [
       "<Figure size 432x288 with 1 Axes>"
      ]
     },
     "metadata": {
      "needs_background": "light"
     },
     "output_type": "display_data"
    },
    {
     "name": "stdout",
     "output_type": "stream",
     "text": [
      "The integration of <ufunc 'exp'> by the Trapezoidal Rule with 30 steps is 22229.028623517694\n"
     ]
    }
   ],
   "source": [
    "a = 0\n",
    "b = 10\n",
    "n = 30\n",
    "integral = integrate_trap_and_plot(np.exp,a,b,n,\"exp(x)\",1)"
   ]
  },
  {
   "cell_type": "code",
   "execution_count": 14,
   "id": "ec4418b3",
   "metadata": {},
   "outputs": [
    {
     "name": "stdout",
     "output_type": "stream",
     "text": [
      "The real value of the integration is 22025.465794806725 with an error of 6.239389118119916e-10.\n",
      "The accuracy of the Trapezoidal Rule with 30 steps is 99.0757842280958%.\n"
     ]
    }
   ],
   "source": [
    "acc = 1 - np.abs((integral - real[0])) / real[0]\n",
    "perc = str(100*acc)+\"%\"\n",
    "print(\"The real value of the integration is {} with an error of {}.\".format(real[0],real[1]))\n",
    "print(\"The accuracy of the Trapezoidal Rule with {} steps is {}.\".format(n,perc))"
   ]
  },
  {
   "cell_type": "code",
   "execution_count": 15,
   "id": "7fafa4f9",
   "metadata": {},
   "outputs": [],
   "source": [
    "def integrate_adapt_trap(f,a,b,n,C,acc):\n",
    "    \"\"\"\n",
    "    Generates a list of x and y values of the antiderivative using the Adaptive Trapezoidal Rule.\n",
    "    \n",
    "    args:\n",
    "    f: some (lambda) function\n",
    "    a: left end point\n",
    "    b: right end point\n",
    "    n: number of partitions along the x-axis\n",
    "    C: The value of the antiderivative at the left end point to uniquely describe the curve.\n",
    "    acc: some accuracy requirement for each partition. This is the same that is used in the adaptive_trapezoid function\n",
    "    \n",
    "    output:\n",
    "    returns a list of lists, with the first entry being the x values \n",
    "    and the second entry being the y values for the antiderivative plot\n",
    "    \n",
    "    \n",
    "    \"\"\"\n",
    "    y = []\n",
    "    x = []\n",
    "    step_size = (b-a) / n\n",
    "    m = 0\n",
    "    for step in arange(0,n):\n",
    "        step_left = a+m*step_size\n",
    "        step_right = a + (m+1)*step_size\n",
    "        val = adaptive_trapezoid(f,a,step_right,200) + C\n",
    "        y.append(val)\n",
    "        x.append(step_right)\n",
    "        m = m+1\n",
    "    x = numpy.array(x)\n",
    "    y = numpy.array(y)\n",
    "    return [x,y]"
   ]
  },
  {
   "cell_type": "markdown",
   "id": "e316bff4",
   "metadata": {},
   "source": [
    "The `adaptive_trapezoid` function takes different arguments than the other integral functions. Here, I let each adaptive trapezoid have an accuracy of $acc = 0.99$."
   ]
  },
  {
   "cell_type": "code",
   "execution_count": 16,
   "id": "65555f20",
   "metadata": {},
   "outputs": [],
   "source": [
    "def integrate_adapt_trap_and_plot(f,a,b,n,acc,name,C):\n",
    "    \"\"\"\n",
    "    Generates a list of x and y values of the antiderivative using the Adaptive Trapezoidal Rule and plots the antiderivative.\n",
    "    \n",
    "    args:\n",
    "    f: some (lambda) function\n",
    "    a: left end point\n",
    "    b: right end point\n",
    "    n: number of partitions along the x-axis\n",
    "    acc: The accuracy required for one specific partition, as used in the adaptive_trapezoid function.\n",
    "    name: The name of the function as a string.\n",
    "    C: The value of the antiderivative at the left end point to uniquely describe the curve.\n",
    "    \n",
    "    output:\n",
    "    returns a numerical approximation for the integration.\n",
    "    \n",
    "    \n",
    "    \"\"\"\n",
    "    val = integrate_adapt_trap(f,a,b,n,C,acc)\n",
    "    x = val[0]\n",
    "    y = val[1]\n",
    "    plt.xlabel(\"x\")\n",
    "    plt.ylabel(\"y\")\n",
    "    plt.title(\"Plot of Integral of \" + str(name))\n",
    "    plt.plot(x,y)\n",
    "    plt.show()\n",
    "    integral = trapezoid(f,a,b,n)\n",
    "    print(\"The integration of {} by the Adaptive Trapezoidal Rule with {} steps is {}\".format(str(f),n,integral))\n",
    "    return integral"
   ]
  },
  {
   "cell_type": "code",
   "execution_count": 17,
   "id": "c8869b6e",
   "metadata": {},
   "outputs": [
    {
     "name": "stdout",
     "output_type": "stream",
     "text": [
      "22025.64083720381 22025.64083720381\n"
     ]
    }
   ],
   "source": [
    "z_1 = adaptive_trapezoid(np.exp,0,10,1,0.99)\n",
    "z_2 = adaptive_trapezoid(np.exp,0,10,1,.01)\n",
    "print(z_1,z_2)"
   ]
  },
  {
   "cell_type": "markdown",
   "id": "3a5d06b6",
   "metadata": {},
   "source": [
    "We can see that the `acc` argument does not change the integration value to any serious degree. This is due to the `adaptive_trapezoid` function from `integrals.py`, not from its application here."
   ]
  },
  {
   "cell_type": "code",
   "execution_count": 18,
   "id": "23eee344",
   "metadata": {},
   "outputs": [
    {
     "data": {
      "image/png": "[encoded data removed]",
      "text/plain": [
       "<Figure size 432x288 with 1 Axes>"
      ]
     },
     "metadata": {
      "needs_background": "light"
     },
     "output_type": "display_data"
    },
    {
     "name": "stdout",
     "output_type": "stream",
     "text": [
      "The integration of <ufunc 'exp'> by the Adaptive Trapezoidal Rule with 30 steps is 22229.028623517694\n"
     ]
    }
   ],
   "source": [
    "a = 0\n",
    "b = 10\n",
    "n = 30\n",
    "integral = integrate_adapt_trap_and_plot(np.exp,a,b,n,0.99,\"exp(x)\",1)"
   ]
  },
  {
   "cell_type": "code",
   "execution_count": 19,
   "id": "de221ba3",
   "metadata": {},
   "outputs": [
    {
     "name": "stdout",
     "output_type": "stream",
     "text": [
      "The real value of the integration is 22025.465794806725 with an error of 6.239389118119916e-10.\n",
      "The accuracy of the Adaptive Trapezoidal Rule with 30 steps is 99.0757842280958%.\n"
     ]
    }
   ],
   "source": [
    "acc = 1 - np.abs((integral - real[0])) / real[0]\n",
    "perc = str(100*acc)+\"%\"\n",
    "print(\"The real value of the integration is {} with an error of {}.\".format(real[0],real[1]))\n",
    "print(\"The accuracy of the Adaptive Trapezoidal Rule with {} steps is {}.\".format(n,perc))"
   ]
  },
  {
   "cell_type": "markdown",
   "id": "32a6c617",
   "metadata": {},
   "source": [
    "### In summary for $f(x) = e^x$\n",
    "- The Simpson Rule can get an accuracy of over 99% in only 10 steps.\n",
    "- The Trapezoid Rule can get an accuracy of over 99% in 30 steps.\n",
    "- The Adaptive Trapezoid Rule can get an accuracy of over 99% in 30 steps given a step accuracy of 99%."
   ]
  },
  {
   "cell_type": "markdown",
   "id": "51ce2569",
   "metadata": {},
   "source": [
    "## $f(x) = \\sin(\\frac{1}{x})\\quad (0,2\\pi]$ "
   ]
  },
  {
   "cell_type": "markdown",
   "id": "a6229a60",
   "metadata": {},
   "source": [
    "We can clearly see that $\\sin(1/x)$ as x tends to 0 is not defined, so I shall omit this point and start at $a = 0.0001$."
   ]
  },
  {
   "cell_type": "code",
   "execution_count": 20,
   "id": "d524df0f",
   "metadata": {},
   "outputs": [
    {
     "data": {
      "image/png": "[encoded data removed]",
      "text/plain": [
       "<Figure size 432x288 with 1 Axes>"
      ]
     },
     "metadata": {
      "needs_background": "light"
     },
     "output_type": "display_data"
    }
   ],
   "source": [
    "a = 0.01\n",
    "b = 2*np.pi\n",
    "x = np.linspace(a,b,1000)\n",
    "y = np.sin(1/x)\n",
    "plt.xlabel(\"x\")\n",
    "plt.ylabel(\"y\")\n",
    "plt.title(\"Plot of  sin(1/x)\")\n",
    "plt.plot(x,y)\n",
    "plt.show()"
   ]
  },
  {
   "cell_type": "markdown",
   "id": "895393d1",
   "metadata": {},
   "source": [
    "I don't know what the antiderivative of $sin(1/x)$ at $0.01$ is, so I will just pick the antiderivative curve where such value is 0."
   ]
  },
  {
   "cell_type": "code",
   "execution_count": 21,
   "id": "13cae4bd",
   "metadata": {},
   "outputs": [
    {
     "data": {
      "image/png": "[encoded data removed]",
      "text/plain": [
       "<Figure size 432x288 with 1 Axes>"
      ]
     },
     "metadata": {
      "needs_background": "light"
     },
     "output_type": "display_data"
    },
    {
     "name": "stdout",
     "output_type": "stream",
     "text": [
      "The integration of <function <lambda> at 0x7fec175c0af0> by the Simpson Rule with 500 steps is 2.281012286277705\n"
     ]
    }
   ],
   "source": [
    "n = 500\n",
    "integral = integrate_simp_and_plot(lambda x: np.sin(1/x),a,b,n,\"sin(1/x)\",0)"
   ]
  },
  {
   "cell_type": "markdown",
   "id": "71f8d216",
   "metadata": {},
   "source": [
    "We can see that even when plotting the antiderivative, it seems to taper off, consistent with the trends we see from $sin(1/x)$, the limit does not appear to be approaching some value, but the rate of change of the antiderivative is decreasing."
   ]
  },
  {
   "cell_type": "markdown",
   "id": "b2bfbe67",
   "metadata": {},
   "source": [
    "Apparently, `str()` does not like to work for lambda functions."
   ]
  },
  {
   "cell_type": "code",
   "execution_count": 22,
   "id": "04ccee2f",
   "metadata": {},
   "outputs": [
    {
     "name": "stdout",
     "output_type": "stream",
     "text": [
      "The real value of the integration is 2.2626857545897185 with an error of 1.474769539892536e-08.\n",
      "The accuracy of the Simpson Rule with 500 steps is 99.19005404746054%.\n"
     ]
    }
   ],
   "source": [
    "real = integrate.quad(lambda x: np.sin(1/x), a, b)\n",
    "acc = 1 - np.abs((integral - real[0])) / real[0]\n",
    "perc = str(100*acc)+\"%\"\n",
    "print(\"The real value of the integration is {} with an error of {}.\".format(real[0],real[1]))\n",
    "print(\"The accuracy of the Simpson Rule with {} steps is {}.\".format(n,perc))"
   ]
  },
  {
   "cell_type": "markdown",
   "id": "f54a87cc",
   "metadata": {},
   "source": [
    "It takes over 500 steps in order to get an accuracy of over 99%! We can see just how varying $\\sin(1/x)$ really is."
   ]
  },
  {
   "cell_type": "code",
   "execution_count": 23,
   "id": "a07567ab",
   "metadata": {},
   "outputs": [
    {
     "data": {
      "image/png": "[encoded data removed]",
      "text/plain": [
       "<Figure size 432x288 with 1 Axes>"
      ]
     },
     "metadata": {
      "needs_background": "light"
     },
     "output_type": "display_data"
    },
    {
     "name": "stdout",
     "output_type": "stream",
     "text": [
      "The integration of <function <lambda> at 0x7fec17588820> by the Trapezoidal Rule with 350 steps is 2.2403351708325423\n"
     ]
    }
   ],
   "source": [
    "integral = integrate_trap_and_plot(lambda x: np.sin(1/x),a,b,350,\"sin(1/x)\",0)"
   ]
  },
  {
   "cell_type": "code",
   "execution_count": 24,
   "id": "7c0f1a84",
   "metadata": {},
   "outputs": [
    {
     "name": "stdout",
     "output_type": "stream",
     "text": [
      "The real value of the integration is 2.2626857545897185 with an error of 1.474769539892536e-08.\n",
      "The accuracy of the Trapezoidal Rule with 500 steps is 99.01220999372805%.\n"
     ]
    }
   ],
   "source": [
    "acc = 1 - np.abs((integral - real[0])) / real[0]\n",
    "perc = str(100*acc)+\"%\"\n",
    "print(\"The real value of the integration is {} with an error of {}.\".format(real[0],real[1]))\n",
    "print(\"The accuracy of the Trapezoidal Rule with {} steps is {}.\".format(n,perc))"
   ]
  },
  {
   "cell_type": "code",
   "execution_count": 25,
   "id": "d9e27eb1",
   "metadata": {},
   "outputs": [
    {
     "data": {
      "image/png": "[encoded data removed]",
      "text/plain": [
       "<Figure size 432x288 with 1 Axes>"
      ]
     },
     "metadata": {
      "needs_background": "light"
     },
     "output_type": "display_data"
    },
    {
     "name": "stdout",
     "output_type": "stream",
     "text": [
      "The integration of <function <lambda> at 0x7fec1f7ae550> by the Adaptive Trapezoidal Rule with 350 steps is 2.2403351708325423\n"
     ]
    }
   ],
   "source": [
    "integral = integrate_adapt_trap_and_plot(lambda x: np.sin(1/x),a,b,350,0.99,\"sin(1/x)\",0)"
   ]
  },
  {
   "cell_type": "code",
   "execution_count": 26,
   "id": "4645244c",
   "metadata": {},
   "outputs": [
    {
     "name": "stdout",
     "output_type": "stream",
     "text": [
      "The real value of the integration is 2.2626857545897185 with an error of 1.474769539892536e-08.\n",
      "The accuracy of the Adaptive Trapezoidal Rule with 500 steps is 99.01220999372805%.\n"
     ]
    }
   ],
   "source": [
    "acc = 1 - np.abs((integral - real[0])) / real[0]\n",
    "perc = str(100*acc)+\"%\"\n",
    "print(\"The real value of the integration is {} with an error of {}.\".format(real[0],real[1]))\n",
    "print(\"The accuracy of the Adaptive Trapezoidal Rule with {} steps is {}.\".format(n,perc))"
   ]
  },
  {
   "cell_type": "markdown",
   "id": "17a56889",
   "metadata": {},
   "source": [
    "We can see that the accuracy for the Adaptive Trapezoid is much higher than the Simpson Rule when $n$ is very large and the accuracy of each step is $0.99$ to begin with."
   ]
  },
  {
   "cell_type": "markdown",
   "id": "bb759271",
   "metadata": {},
   "source": [
    "### In summary for $f(x) = \\sin(\\frac{1}{x})$\n",
    "- The Simpson Rule can get an accuracy of over 99% in 500 steps.\n",
    "- The Trapezoid Rule can get an accuracy of over 99% in 350 steps.\n",
    "- The Adaptive Trapezoid Rule can get an accuracy of over 99% in 350 steps given a step accuracy of 99%.\n",
    "- The Adaptive Trapezoid Plot is significantly different than the others."
   ]
  },
  {
   "cell_type": "markdown",
   "id": "87c35f09",
   "metadata": {},
   "source": [
    "## $f(x) = x^3$"
   ]
  },
  {
   "cell_type": "code",
   "execution_count": 27,
   "id": "e719bd7f",
   "metadata": {},
   "outputs": [
    {
     "data": {
      "image/png": "[encoded data removed]",
      "text/plain": [
       "<Figure size 432x288 with 1 Axes>"
      ]
     },
     "metadata": {
      "needs_background": "light"
     },
     "output_type": "display_data"
    }
   ],
   "source": [
    "a = -10\n",
    "b = 10\n",
    "x = np.linspace(a,b,1000)\n",
    "y = x**3\n",
    "plt.xlabel(\"x\")\n",
    "plt.ylabel(\"y\")\n",
    "plt.title(\"Plot of x^3\")\n",
    "plt.plot(x,y)\n",
    "plt.show()"
   ]
  },
  {
   "cell_type": "code",
   "execution_count": 28,
   "id": "2646b8e2",
   "metadata": {},
   "outputs": [
    {
     "data": {
      "image/png": "[encoded data removed]",
      "text/plain": [
       "<Figure size 432x288 with 1 Axes>"
      ]
     },
     "metadata": {
      "needs_background": "light"
     },
     "output_type": "display_data"
    },
    {
     "name": "stdout",
     "output_type": "stream",
     "text": [
      "The integration of <function <lambda> at 0x7fec17631550> by the Simpson Rule with 100 steps is 1.076235397097965e-12\n"
     ]
    }
   ],
   "source": [
    "n = 100\n",
    "integral = integrate_simp_and_plot(lambda x: x**3,a,b,n,\"x^3\",2500)"
   ]
  },
  {
   "cell_type": "markdown",
   "id": "91472a4a",
   "metadata": {},
   "source": [
    "Since I only plot with the right step values, we see some missing points at the left side of the graph."
   ]
  },
  {
   "cell_type": "code",
   "execution_count": 29,
   "id": "49fe5f59",
   "metadata": {
    "scrolled": true
   },
   "outputs": [
    {
     "name": "stdout",
     "output_type": "stream",
     "text": [
      "1.076235397097965e-12\n",
      "0.0\n",
      "The real value of the integration is 0.0 with an error of 5.551208455924673e-11.\n",
      "The accuracy of the Simpson Rule with 100 steps is -inf%.\n"
     ]
    },
    {
     "name": "stderr",
     "output_type": "stream",
     "text": [
      "/tmp/ipykernel_310/2164958878.py:4: RuntimeWarning: divide by zero encountered in double_scalars\n",
      "  acc = 1 - np.abs((integral - real[0])) / real[0]\n"
     ]
    }
   ],
   "source": [
    "real = integrate.quad(lambda x: x**3, a, b)\n",
    "print(np.abs((integral - real[0])))\n",
    "print(real[0])\n",
    "acc = 1 - np.abs((integral - real[0])) / real[0]\n",
    "perc = str(100*acc)+\"%\"\n",
    "print(\"The real value of the integration is {} with an error of {}.\".format(real[0],real[1]))\n",
    "print(\"The accuracy of the Simpson Rule with {} steps is {}.\".format(n,perc))"
   ]
  },
  {
   "cell_type": "markdown",
   "id": "d275ccdf",
   "metadata": {},
   "source": [
    "Because the expected value of the integral is $0$, we will get a divide by zero error when measuring accuracy. To remedy this, let's redefine accuracy to be:\n",
    "$$acc = (1-\\text{experimental})\\times100$$"
   ]
  },
  {
   "cell_type": "code",
   "execution_count": 30,
   "id": "0e6bb595",
   "metadata": {},
   "outputs": [
    {
     "name": "stdout",
     "output_type": "stream",
     "text": [
      "The accuracy of the Simpson Rule with 100 steps is 99.99999999989238%.\n"
     ]
    }
   ],
   "source": [
    "new_acc = (1-integral)*100\n",
    "perc = str(new_acc) + \"%\"\n",
    "print(\"The accuracy of the Simpson Rule with {} steps is {}.\".format(n,perc))"
   ]
  },
  {
   "cell_type": "code",
   "execution_count": 31,
   "id": "f399346c",
   "metadata": {},
   "outputs": [
    {
     "data": {
      "image/png": "[encoded data removed]",
      "text/plain": [
       "<Figure size 432x288 with 1 Axes>"
      ]
     },
     "metadata": {
      "needs_background": "light"
     },
     "output_type": "display_data"
    },
    {
     "name": "stdout",
     "output_type": "stream",
     "text": [
      "The integration of <function <lambda> at 0x7fec173d4e50> by the Trapezoidal Rule with 100 steps is 9.322320693172516e-13\n",
      "The accuracy of the Trapezoidal Rule with 100 steps is 99.99999999990678%.\n"
     ]
    }
   ],
   "source": [
    "integral = integrate_trap_and_plot(lambda x: x**3,a,b,n,\"x^3\",2500)\n",
    "new_acc = (1-integral)*100\n",
    "perc = str(new_acc) + \"%\"\n",
    "print(\"The accuracy of the Trapezoidal Rule with {} steps is {}.\".format(n,perc))"
   ]
  },
  {
   "cell_type": "code",
   "execution_count": 32,
   "id": "d80a5068",
   "metadata": {},
   "outputs": [
    {
     "data": {
      "image/png": "[encoded data removed]",
      "text/plain": [
       "<Figure size 432x288 with 1 Axes>"
      ]
     },
     "metadata": {
      "needs_background": "light"
     },
     "output_type": "display_data"
    },
    {
     "name": "stdout",
     "output_type": "stream",
     "text": [
      "The integration of <function <lambda> at 0x7fec1734b310> by the Adaptive Trapezoidal Rule with 100 steps is 9.322320693172516e-13\n",
      "100\n",
      "The accuracy of the Adaptive Trapezoidal Rule with 100 steps is 99.99999999990678%.\n"
     ]
    }
   ],
   "source": [
    "integral = integrate_adapt_trap_and_plot(lambda x: x**3,a,b,n,.99,\"x^3\",2500)\n",
    "print(n)\n",
    "new_acc = (1-integral)*100\n",
    "perc = str(new_acc) + \"%\"\n",
    "print(\"The accuracy of the Adaptive Trapezoidal Rule with {} steps is {}.\".format(n,perc))"
   ]
  },
  {
   "cell_type": "markdown",
   "id": "e60d5f00",
   "metadata": {},
   "source": [
    "This measurement for accuracy isn't truly meaningful when comparing to other functions, but it gives us some baseline when comparing integration methods for one function."
   ]
  },
  {
   "cell_type": "markdown",
   "id": "b36e7665",
   "metadata": {},
   "source": [
    "### In summary for $f(x) = x^3$\n",
    "- The trapezoidal rules are ever so slightly more accurate than the simpson rule, but the difference is of the order $10^{-12}$. \n",
    "- The plot for the adaptive trapezoid is contorted, but I do not know why.\n",
    "- All accuracies with 100 steps are of the order $10^{-11}$."
   ]
  },
  {
   "cell_type": "code",
   "execution_count": null,
   "id": "0b10ad08",
   "metadata": {},
   "outputs": [],
   "source": []
  }
 ],
 "metadata": {
  "kernelspec": {
   "display_name": "Python 3 (ipykernel)",
   "language": "python",
   "name": "python3"
  },
  "language_info": {
   "codemirror_mode": {
    "name": "ipython",
    "version": 3
   },
   "file_extension": ".py",
   "mimetype": "text/x-python",
   "name": "python",
   "nbconvert_exporter": "python",
   "pygments_lexer": "ipython3",
   "version": "3.9.7"
  }
 },
 "nbformat": 4,
 "nbformat_minor": 5
}
