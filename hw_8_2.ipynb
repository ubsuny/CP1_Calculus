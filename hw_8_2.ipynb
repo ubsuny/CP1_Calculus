{
 "cells": [
  {
   "cell_type": "markdown",
   "id": "fa255e89",
   "metadata": {
    "id": "fa255e89"
   },
   "source": [
    "## Problem 2"
   ]
  },
  {
   "cell_type": "markdown",
   "id": "82eb977a",
   "metadata": {
    "id": "82eb977a"
   },
   "source": [
    "We have to fidn the roots for following : \\\n",
    "a) 𝑦(𝑥) = tan(𝑥) and \\\n",
    "b) 𝑦(𝑥) = tanh(𝑥)."
   ]
  },
  {
   "cell_type": "markdown",
   "id": "94f01b17",
   "metadata": {
    "id": "94f01b17"
   },
   "source": [
    "## a) Bisection method\n",
    "To find the root for 𝑦(𝑥) = tan(𝑥), we will use Bisection method first. The examples and codes are taken from  [Bisection](https://personal.math.ubc.ca/~pwalls/math-python/roots-optimization/bisection/). I have also used the codes exapmles shown in class. "
   ]
  },
  {
   "cell_type": "markdown",
   "id": "06a07b5d",
   "metadata": {
    "id": "06a07b5d"
   },
   "source": [
    "The  **\" bisection method \"**  is a simple method to find the root of a function. \n",
    "We start with guessing a boundary (upper limit and lower limit). The steps are given as follows:\n",
    ">Choose a starting interval $ [a_0, b_0] $ such that $ f(a_0)*f(b_0) < 0 $.\\\n",
    ">Compute  f(m)  where m = $\\frac{a_0+b_0}{2} $ is the midpoint.\\\n",
    ">We Determine the next subinterval $ [a_1,b_1] $ such that : \\\n",
    "    > If  $ f(a_0)*f(m) < 0 $, for  then next interval , $ a_1=a_0,$ and $ b_1 = m_0 .$ \\\n",
    "    > If  $ f(b_0)*f(m) < 0 $, for  then next interval , $ a_1=m_0,$ and $ b_1 = b_0 .$ \\\n",
    "> Repeat the steps above untill interval $[a_n,b_n]$ reaches to an limit of accuracy ( given ).\\\n",
    "> When accuracy limit is reached : Return the midpoint value  m = $\\frac{a_n+b_n}{2} $.\n",
    "    "
   ]
  },
  {
   "cell_type": "markdown",
   "id": "065ba306",
   "metadata": {
    "id": "065ba306"
   },
   "source": [
    "Lets begin with  necessary imports. "
   ]
  },
  {
   "cell_type": "code",
   "execution_count": 33,
   "id": "3e375240",
   "metadata": {
    "id": "3e375240"
   },
   "outputs": [],
   "source": [
    "import numpy as np\n",
    "import math\n",
    "import matplotlib.pyplot as plt\n",
    "# %load_ext pycodestyle_magic\n",
    "# %pycodestyle_on"
   ]
  },
  {
   "cell_type": "markdown",
   "id": "a402a47c",
   "metadata": {
    "id": "a402a47c"
   },
   "source": [
    "We will define our  **\"Bisection\"**  method below : "
   ]
  },
  {
   "cell_type": "code",
   "execution_count": 34,
   "id": "fa2b8ea2",
   "metadata": {
    "id": "fa2b8ea2"
   },
   "outputs": [],
   "source": [
    "def bisection(f, lower_bound, upper_bound, max_iterations=100, error=1e-10):\n",
    "    # we count our steps here \n",
    "    steps= 1\n",
    "    # Making sure our steps does not exceed the number of maximum iterations\n",
    "    while steps < max_iterations:\n",
    "        m = (lower_bound + upper_bound) / 2.0 \n",
    " \n",
    "        if abs(upper_bound-lower_bound) < error: # we will stop when we reach at certain accuracy . \n",
    "            return m, steps                \n",
    "        if f(m) > 0:\n",
    "            upper_bound = m\n",
    "        else:\n",
    "            lower_bound = m\n",
    " \n",
    "        steps += 1\n",
    " \n",
    "    final_result = (lower_bound + upper_bound) / 2.0\n",
    "    return final_result, steps"
   ]
  },
  {
   "cell_type": "markdown",
   "id": "0feac606",
   "metadata": {
    "id": "0feac606"
   },
   "source": [
    "Lets define our function function f , and get an approximation for its root using above method. As its trig function, we provide limits from $-2\\pi$ to 2$\\pi$ and steps 10."
   ]
  },
  {
   "cell_type": "code",
   "execution_count": 35,
   "id": "61ca7e74",
   "metadata": {
    "colab": {
     "base_uri": "https://localhost:8080/"
    },
    "id": "61ca7e74",
    "outputId": "fb8e1487-f23c-4ca1-e95a-23acf4538399",
    "scrolled": true
   },
   "outputs": [
    {
     "name": "stdout",
     "output_type": "stream",
     "text": [
      "root is: 3.1415926536355094\n",
      "steps taken: 38\n",
      "accuracy is: 4.571619715412493e-11\n"
     ]
    }
   ],
   "source": [
    "f = lambda x: math.tan(x)\n",
    "root, steps = bisection(f,-2*np.pi,2*np.pi)\n",
    "accuracy = abs(f(root))\n",
    "print (\"root is:\", root)\n",
    "print (\"steps taken:\", steps)\n",
    "print (\"accuracy is:\", accuracy)"
   ]
  },
  {
   "cell_type": "markdown",
   "id": "ed9ca73d",
   "metadata": {
    "id": "ed9ca73d"
   },
   "source": [
    "The result we got is equal to 2$\\pi$ which is a correct root. But this function has many repeating roots . Because of our method and the boundary values This is the only possible outcome. If we choose any other boundaries, we might get another root values. But the error in this method is  also very very low. "
   ]
  },
  {
   "cell_type": "markdown",
   "id": "55d6f44d-0f4e-4937-bd80-25d889651c0d",
   "metadata": {
    "tags": []
   },
   "source": [
    "## For  f = tanh(x) \n",
    "We use the same nethod again "
   ]
  },
  {
   "cell_type": "code",
   "execution_count": 36,
   "id": "436ed307-ec60-4c10-b97d-95616fc96549",
   "metadata": {},
   "outputs": [
    {
     "name": "stdout",
     "output_type": "stream",
     "text": [
      "root is: 4.571618997709874e-11\n",
      "steps taken: 38\n",
      "accuracy is: 4.571618997709874e-11\n"
     ]
    }
   ],
   "source": [
    "f = lambda x: math.tanh(x)\n",
    "root, steps = bisection(f,-2*np.pi,2*np.pi)\n",
    "accuracy = abs(f(root))\n",
    "print (\"root is:\", root)\n",
    "print (\"steps taken:\", steps)\n",
    "print (\"accuracy is:\", accuracy)"
   ]
  },
  {
   "cell_type": "markdown",
   "id": "d5845482-e479-46c2-afa9-edfc791623f3",
   "metadata": {},
   "source": [
    "This code does not give the expected result which is 0 but its very very close . Our error in this case is little bigger than the privious one."
   ]
  }
 ],
 "metadata": {
  "colab": {
   "name": "hw_8_part_02",
   "provenance": []
  },
  "kernelspec": {
   "display_name": "Python 3 (ipykernel)",
   "language": "python",
   "name": "python3"
  },
  "language_info": {
   "codemirror_mode": {
    "name": "ipython",
    "version": 3
   },
   "file_extension": ".py",
   "mimetype": "text/x-python",
   "name": "python",
   "nbconvert_exporter": "python",
   "pygments_lexer": "ipython3",
   "version": "3.9.5"
  }
 },
 "nbformat": 4,
 "nbformat_minor": 5
}
